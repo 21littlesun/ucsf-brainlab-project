{
 "cells": [
  {
   "cell_type": "markdown",
   "metadata": {},
   "source": [
    "# Recurrent Neural Network Model (LSTM Model)"
   ]
  },
  {
   "cell_type": "markdown",
   "metadata": {},
   "source": [
    "## Model with 5 seperate linear layers\n",
    "In this nb, I tried to **build a seperate linear layer for each parameter(output)**. Since then, the model has 5 linear layers and the data feed in will be unscaled."
   ]
  },
  {
   "cell_type": "code",
   "execution_count": 47,
   "metadata": {},
   "outputs": [
    {
     "name": "stdout",
     "output_type": "stream",
     "text": [
      "test-data     test_300.npy  train_100.npy  trian.npy\tval_300.npy\r\n",
      "test.npy      test_400.npy  train_200.npy  val.npy\tval_400.npy\r\n",
      "test_100.npy  train-data    train_300.npy  val_100.npy\r\n",
      "test_200.npy  train.npy     train_400.npy  val_200.npy\r\n"
     ]
    }
   ],
   "source": [
    "! ls /mnt/wamri/brainlabs/lexie/spectrome-ai/data"
   ]
  },
  {
   "cell_type": "code",
   "execution_count": 1,
   "metadata": {},
   "outputs": [],
   "source": [
    "import torch\n",
    "import torch.nn as nn\n",
    "import torch.nn.functional as F\n",
    "import torch.optim as optim\n",
    "from torch.utils.data import Dataset, DataLoader"
   ]
  },
  {
   "cell_type": "code",
   "execution_count": 2,
   "metadata": {},
   "outputs": [],
   "source": [
    "import matplotlib.pyplot as plt\n",
    "import pickle\n",
    "%matplotlib inline\n",
    "\n",
    "# Load h5 spectra and model parameters\n",
    "import numpy as np\n",
    "import pandas as pd\n",
    "import os\n",
    "import h5py\n",
    "import tables\n",
    "# from sklearn.preprocessing import MinMaxScaler\n",
    "from sklearn.metrics import r2_score\n",
    "import time"
   ]
  },
  {
   "cell_type": "code",
   "execution_count": 3,
   "metadata": {},
   "outputs": [],
   "source": [
    "from pathlib import Path\n",
    "PATH = Path(\"/mnt/wamri/brainlabs/lexie/spectrome-ai/data\")"
   ]
  },
  {
   "cell_type": "code",
   "execution_count": 4,
   "metadata": {},
   "outputs": [],
   "source": [
    "import os\n",
    "os.environ[\"CUDA_VISIBLE_DEVICES\"] = \"3\""
   ]
  },
  {
   "cell_type": "markdown",
   "metadata": {},
   "source": [
    "## Get Data\n",
    "### Read from clean files"
   ]
  },
  {
   "cell_type": "markdown",
   "metadata": {},
   "source": []
  },
  {
   "cell_type": "code",
   "execution_count": 16,
   "metadata": {},
   "outputs": [],
   "source": [
    "def parse_data(path: str):\n",
    "    # load data from the disk\n",
    "    data = np.load(PATH/path, allow_pickle=True)\n",
    "    df = pd.DataFrame(data=data, index=data[:,0:5])\n",
    "    df = df.drop([0, 1, 2, 3, 4], axis=1)\n",
    "    df = df.reset_index()\n",
    "    df.columns = ['params', 'freq']\n",
    "    return df"
   ]
  },
  {
   "cell_type": "code",
   "execution_count": 17,
   "metadata": {},
   "outputs": [],
   "source": [
    "train_df = parse_data('train.npy')"
   ]
  },
  {
   "cell_type": "code",
   "execution_count": 18,
   "metadata": {},
   "outputs": [],
   "source": [
    "val_df = parse_data('val.npy')"
   ]
  },
  {
   "cell_type": "code",
   "execution_count": 19,
   "metadata": {},
   "outputs": [
    {
     "data": {
      "text/html": [
       "<div>\n",
       "<style scoped>\n",
       "    .dataframe tbody tr th:only-of-type {\n",
       "        vertical-align: middle;\n",
       "    }\n",
       "\n",
       "    .dataframe tbody tr th {\n",
       "        vertical-align: top;\n",
       "    }\n",
       "\n",
       "    .dataframe thead th {\n",
       "        text-align: right;\n",
       "    }\n",
       "</style>\n",
       "<table border=\"1\" class=\"dataframe\">\n",
       "  <thead>\n",
       "    <tr style=\"text-align: right;\">\n",
       "      <th></th>\n",
       "      <th>params</th>\n",
       "      <th>freq</th>\n",
       "    </tr>\n",
       "  </thead>\n",
       "  <tbody>\n",
       "    <tr>\n",
       "      <th>0</th>\n",
       "      <td>(0.006774817007605203, 0.02009569890767441, 0....</td>\n",
       "      <td>[[(-0.5363079897402153+0.23131415988148957j), ...</td>\n",
       "    </tr>\n",
       "    <tr>\n",
       "      <th>1</th>\n",
       "      <td>(0.006665624695702036, 0.007136992805070295, 1...</td>\n",
       "      <td>[[(-0.8445742133913164-0.12417212129587563j), ...</td>\n",
       "    </tr>\n",
       "    <tr>\n",
       "      <th>2</th>\n",
       "      <td>(0.009857082118029867, 0.011149760592540766, 1...</td>\n",
       "      <td>[[(-0.16362021960862128-0.21202572414360818j),...</td>\n",
       "    </tr>\n",
       "  </tbody>\n",
       "</table>\n",
       "</div>"
      ],
      "text/plain": [
       "                                              params  \\\n",
       "0  (0.006774817007605203, 0.02009569890767441, 0....   \n",
       "1  (0.006665624695702036, 0.007136992805070295, 1...   \n",
       "2  (0.009857082118029867, 0.011149760592540766, 1...   \n",
       "\n",
       "                                                freq  \n",
       "0  [[(-0.5363079897402153+0.23131415988148957j), ...  \n",
       "1  [[(-0.8445742133913164-0.12417212129587563j), ...  \n",
       "2  [[(-0.16362021960862128-0.21202572414360818j),...  "
      ]
     },
     "execution_count": 19,
     "metadata": {},
     "output_type": "execute_result"
    }
   ],
   "source": [
    "train_df.head(3)"
   ]
  },
  {
   "cell_type": "code",
   "execution_count": 20,
   "metadata": {},
   "outputs": [
    {
     "data": {
      "text/plain": [
       "(3260, 2)"
      ]
     },
     "execution_count": 20,
     "metadata": {},
     "output_type": "execute_result"
    }
   ],
   "source": [
    "train_df.shape"
   ]
  },
  {
   "cell_type": "markdown",
   "metadata": {},
   "source": [
    "### Dataset"
   ]
  },
  {
   "cell_type": "code",
   "execution_count": 21,
   "metadata": {},
   "outputs": [],
   "source": [
    "# if a word is not in your vocabulary use len(vocabulary) as the encoding\n",
    "class SPDataset(Dataset):\n",
    "    def __init__(self, df):\n",
    "        self.df = df\n",
    "        self.x = np.abs(np.array(self.df['freq']))\n",
    "        self.y = np.array(list(self.df['params']))\n",
    "\n",
    "    def __len__(self):\n",
    "        \"\"\" Length of the dataset \"\"\"\n",
    "        ### BEGIN SOLUTION\n",
    "        N, _ = self.df.shape\n",
    "        ### END SOLUTION\n",
    "        return N\n",
    "\n",
    "    def __getitem__(self, idx):\n",
    "        \"\"\" returns x[idx], y[idx] for this dataset\n",
    "        \n",
    "        x[idx] should be a numpy array of shape (5,)\n",
    "        \"\"\"\n",
    "        ### BEGIN SOLUTION\n",
    "        x = self.x[idx]\n",
    "        y = self.y[idx]\n",
    "        ### END SOLUTION\n",
    "        return x, y"
   ]
  },
  {
   "cell_type": "code",
   "execution_count": 22,
   "metadata": {},
   "outputs": [],
   "source": [
    "train_ds = SPDataset(train_df)\n",
    "valid_ds = SPDataset(val_df)"
   ]
  },
  {
   "cell_type": "markdown",
   "metadata": {},
   "source": [
    "### DataLoader"
   ]
  },
  {
   "cell_type": "code",
   "execution_count": 23,
   "metadata": {},
   "outputs": [],
   "source": [
    "train_dl = DataLoader(train_ds, batch_size=300, shuffle=True)\n",
    "valid_dl = DataLoader(valid_ds, batch_size=300)"
   ]
  },
  {
   "cell_type": "markdown",
   "metadata": {},
   "source": [
    "## Model \n",
    "### parameter setting"
   ]
  },
  {
   "cell_type": "code",
   "execution_count": 24,
   "metadata": {},
   "outputs": [],
   "source": [
    "input_size = 86\n",
    "hidden_dim = 50\n",
    "n_layers = 3\n",
    "seq_len = 40\n",
    "output_size = 5\n",
    "batch_size = 300"
   ]
  },
  {
   "cell_type": "code",
   "execution_count": 25,
   "metadata": {},
   "outputs": [],
   "source": [
    "# check if a GPU is available\n",
    "is_cuda = torch.cuda.is_available()\n",
    "if is_cuda:\n",
    "    device = torch.device(\"cuda\")\n",
    "else:\n",
    "    device = torch.device(\"cpu\")"
   ]
  },
  {
   "cell_type": "markdown",
   "metadata": {},
   "source": [
    "### model setting"
   ]
  },
  {
   "cell_type": "code",
   "execution_count": 26,
   "metadata": {},
   "outputs": [],
   "source": [
    "class LSTMNet(nn.Module):\n",
    "    def __init__(self, input_size, output_size, hidden_dim, n_layers, seq_len, batch_size, drop_prob=0.5):\n",
    "        super(LSTMNet, self).__init__()\n",
    "        self.input_size = input_size\n",
    "        self.output_size = output_size\n",
    "        self.n_layers = n_layers\n",
    "        self.hidden_dim = hidden_dim\n",
    "        self.seq_len = seq_len\n",
    "        self.lstm = nn.LSTM(input_size, hidden_dim, n_layers, dropout=drop_prob, batch_first=True)\n",
    "        self.dropout = nn.Dropout(drop_prob)\n",
    "        self.linear1 = nn.Linear(hidden_dim, 1)\n",
    "        self.linear2 = nn.Linear(hidden_dim, 1)\n",
    "        self.linear3 = nn.Linear(hidden_dim, 1)\n",
    "        self.linear4 = nn.Linear(hidden_dim, 1)\n",
    "        self.linear5 = nn.Linear(hidden_dim, 1)\n",
    "    \n",
    "    def forward(self, x):\n",
    "        lstm_out, (lstm_ht, lstm_ct) = self.lstm(x)\n",
    "        lstm_ht[-1] = self.dropout(lstm_ht[-1])\n",
    "        out1 = self.linear1(lstm_ht[-1])\n",
    "        out2 = self.linear2(lstm_ht[-1])\n",
    "        out3 = self.linear3(lstm_ht[-1])\n",
    "        out4 = self.linear4(lstm_ht[-1])\n",
    "        out5 = self.linear5(lstm_ht[-1])\n",
    "        out = torch.cat([out1, out2, out3, out4, out5], 1)\n",
    "        return out"
   ]
  },
  {
   "cell_type": "code",
   "execution_count": 27,
   "metadata": {
    "scrolled": true
   },
   "outputs": [
    {
     "data": {
      "text/plain": [
       "LSTMNet(\n",
       "  (lstm): LSTM(86, 50, num_layers=3, batch_first=True, dropout=0.5)\n",
       "  (dropout): Dropout(p=0.5, inplace=False)\n",
       "  (linear1): Linear(in_features=50, out_features=1, bias=True)\n",
       "  (linear2): Linear(in_features=50, out_features=1, bias=True)\n",
       "  (linear3): Linear(in_features=50, out_features=1, bias=True)\n",
       "  (linear4): Linear(in_features=50, out_features=1, bias=True)\n",
       "  (linear5): Linear(in_features=50, out_features=1, bias=True)\n",
       ")"
      ]
     },
     "execution_count": 27,
     "metadata": {},
     "output_type": "execute_result"
    }
   ],
   "source": [
    "model = LSTMNet(input_size, output_size, hidden_dim, n_layers, seq_len, batch_size)\n",
    "model.to(device)"
   ]
  },
  {
   "cell_type": "code",
   "execution_count": 28,
   "metadata": {},
   "outputs": [],
   "source": [
    "def R2_report(dataloader, model):\n",
    "    y_pred = []\n",
    "    y_all = []\n",
    "    model.eval()\n",
    "    for x, y in dataloader:\n",
    "        y_all.append(y)\n",
    "        x = torch.FloatTensor(x.float()).transpose(1,2).to(device)\n",
    "        y = torch.FloatTensor(y.float()).to(device)\n",
    "        out = model(x)\n",
    "        y_pred.append(out.detach().cpu().numpy())\n",
    "\n",
    "    y_pred = np.vstack(y_pred)\n",
    "    y_all = np.vstack(y_all)\n",
    "    r1 = r2_score(y_all[:,0], y_pred[:,0])\n",
    "    r2 = r2_score(y_all[:,1], y_pred[:,1])\n",
    "    r3 = r2_score(y_all[:,2], y_pred[:,2])\n",
    "    r4 = r2_score(y_all[:,3], y_pred[:,3])\n",
    "    r5 = r2_score(y_all[:,4], y_pred[:,4])\n",
    "    return r1, r2, r3, r4, r5"
   ]
  },
  {
   "cell_type": "code",
   "execution_count": 29,
   "metadata": {},
   "outputs": [],
   "source": [
    "def val_matrics(model):\n",
    "    valid_losses = []\n",
    "    model.eval()\n",
    "    for x_val, y_val in valid_dl:\n",
    "        x_valid = torch.FloatTensor(x_val.float()).transpose(1,2).to(device)\n",
    "        y_valid = torch.FloatTensor(y_val.float()).to(device)\n",
    "        out_valid = model(x_valid)\n",
    "        valid_loss = criterion(out_valid, y_valid)\n",
    "        valid_losses.append(valid_loss.item())\n",
    "    return valid_losses"
   ]
  },
  {
   "cell_type": "code",
   "execution_count": 44,
   "metadata": {},
   "outputs": [],
   "source": [
    "def training(model, optimizer, criterion, epochs=200):\n",
    "    valid_loss_min = np.Inf\n",
    "    for i in range(epochs):\n",
    "        model.train()\n",
    "        for x, y in train_dl:\n",
    "            x = torch.FloatTensor(x.float()).transpose(1,2).to(device)\n",
    "            y = torch.FloatTensor(y.float()).to(device)\n",
    "            out = model(x)\n",
    "            optimizer.zero_grad()\n",
    "            loss = criterion(out, y)\n",
    "            loss.backward(retain_graph=True)\n",
    "            optimizer.step()\n",
    "        val_losses = val_matrics(model)\n",
    "        r1, r2, r3, r4, r5 =  R2_report(valid_dl, model)\n",
    "        if np.mean(val_losses) <= valid_loss_min:\n",
    "            torch.save(model.state_dict(), './state_dict.pt')\n",
    "            print('saving model...')\n",
    "        print(\"Epoch: {}/{}, \".format(i+1, epochs),\n",
    "              \"Train Loss: {:.4f}, \".format(loss.item()),\n",
    "              \"Val Loss: {:.4f}, \".format(np.mean(val_losses)),\n",
    "              \"R^2: {:.4f}, {:.4f}, {:.4f}, {:.4f}, {:.4f}\".format(r1, r2, r3, r4, r5))\n",
    "        valid_loss_min = np.mean(val_losses)"
   ]
  },
  {
   "cell_type": "code",
   "execution_count": 45,
   "metadata": {
    "scrolled": true
   },
   "outputs": [
    {
     "name": "stdout",
     "output_type": "stream",
     "text": [
      "saving model...\n",
      "Epoch: 1/200,  Train Loss: 1.0388,  Val Loss: 0.0902,  R^2: 0.0033, -1.9679, 0.8560, 0.9967, -0.3126\n",
      "Epoch: 2/200,  Train Loss: 0.9879,  Val Loss: 0.0943,  R^2: 0.1159, -1.1022, 0.8313, 0.9972, -0.0809\n",
      "Epoch: 3/200,  Train Loss: 0.9208,  Val Loss: 0.1114,  R^2: 0.2510, -0.3530, 0.8163, 0.9962, 0.0354\n",
      "saving model...\n",
      "Epoch: 4/200,  Train Loss: 0.8259,  Val Loss: 0.1051,  R^2: 0.2420, -0.0451, 0.8310, 0.9964, 0.0407\n",
      "saving model...\n",
      "Epoch: 5/200,  Train Loss: 0.8001,  Val Loss: 0.1023,  R^2: 0.2272, -0.0074, 0.8393, 0.9964, 0.0387\n",
      "saving model...\n",
      "Epoch: 6/200,  Train Loss: 0.8676,  Val Loss: 0.0893,  R^2: 0.2445, -0.0052, 0.8215, 0.9980, 0.0383\n",
      "saving model...\n",
      "Epoch: 7/200,  Train Loss: 0.9583,  Val Loss: 0.0722,  R^2: 0.2330, -0.0035, 0.8463, 0.9987, 0.0443\n",
      "Epoch: 8/200,  Train Loss: 1.0042,  Val Loss: 0.0811,  R^2: 0.2490, -0.0101, 0.8414, 0.9980, 0.0191\n",
      "Epoch: 9/200,  Train Loss: 0.8684,  Val Loss: 0.0818,  R^2: 0.2165, -0.0072, 0.8387, 0.9980, -0.0248\n",
      "saving model...\n",
      "Epoch: 10/200,  Train Loss: 0.9112,  Val Loss: 0.0715,  R^2: 0.1787, 0.0005, 0.8531, 0.9985, 0.0330\n",
      "Epoch: 11/200,  Train Loss: 0.9011,  Val Loss: 0.0732,  R^2: 0.1933, -0.0256, 0.8580, 0.9982, 0.0417\n",
      "Epoch: 12/200,  Train Loss: 0.9702,  Val Loss: 0.0796,  R^2: 0.2638, -0.0024, 0.8355, 0.9983, 0.0444\n",
      "Epoch: 13/200,  Train Loss: 0.9206,  Val Loss: 0.0835,  R^2: 0.2396, -0.0377, 0.8364, 0.9980, 0.0491\n",
      "Epoch: 14/200,  Train Loss: 0.7365,  Val Loss: 0.1116,  R^2: 0.2224, -0.0102, 0.8468, 0.9953, 0.0479\n",
      "saving model...\n",
      "Epoch: 15/200,  Train Loss: 0.8439,  Val Loss: 0.0944,  R^2: 0.2361, -0.0018, 0.8154, 0.9977, 0.0334\n",
      "Epoch: 16/200,  Train Loss: 0.9276,  Val Loss: 0.0949,  R^2: 0.2624, -0.0065, 0.8218, 0.9974, 0.0401\n",
      "saving model...\n",
      "Epoch: 17/200,  Train Loss: 0.8201,  Val Loss: 0.0863,  R^2: 0.2699, -0.0259, 0.8246, 0.9980, 0.0463\n",
      "saving model...\n",
      "Epoch: 18/200,  Train Loss: 1.0898,  Val Loss: 0.0820,  R^2: 0.2526, -0.0082, 0.8424, 0.9979, 0.0503\n",
      "Epoch: 19/200,  Train Loss: 0.9593,  Val Loss: 0.0918,  R^2: 0.2075, -0.0177, 0.8327, 0.9974, 0.0470\n",
      "Epoch: 20/200,  Train Loss: 1.1306,  Val Loss: 0.0942,  R^2: 0.2277, -0.0375, 0.8339, 0.9972, 0.0301\n",
      "saving model...\n",
      "Epoch: 21/200,  Train Loss: 0.8868,  Val Loss: 0.0919,  R^2: 0.1978, 0.0006, 0.8048, 0.9982, 0.0030\n",
      "saving model...\n",
      "Epoch: 22/200,  Train Loss: 0.9036,  Val Loss: 0.0879,  R^2: 0.1879, -0.0134, 0.8530, 0.9971, 0.0420\n",
      "saving model...\n",
      "Epoch: 23/200,  Train Loss: 0.9173,  Val Loss: 0.0733,  R^2: 0.2231, 0.0012, 0.8525, 0.9983, 0.0476\n",
      "Epoch: 24/200,  Train Loss: 0.5729,  Val Loss: 0.0883,  R^2: 0.2465, -0.0140, 0.8256, 0.9979, -0.0505\n",
      "saving model...\n",
      "Epoch: 25/200,  Train Loss: 0.7843,  Val Loss: 0.0767,  R^2: 0.2438, -0.0086, 0.8532, 0.9981, 0.0462\n",
      "Epoch: 26/200,  Train Loss: 0.9343,  Val Loss: 0.0805,  R^2: 0.2527, -0.0082, 0.8590, 0.9976, 0.0523\n",
      "Epoch: 27/200,  Train Loss: 0.9104,  Val Loss: 0.0840,  R^2: 0.2278, -0.0085, 0.8263, 0.9982, -0.0431\n",
      "saving model...\n",
      "Epoch: 28/200,  Train Loss: 0.8683,  Val Loss: 0.0744,  R^2: 0.2309, -0.0095, 0.8489, 0.9984, 0.0462\n",
      "saving model...\n",
      "Epoch: 29/200,  Train Loss: 0.9735,  Val Loss: 0.0699,  R^2: 0.2159, -0.0221, 0.8481, 0.9988, 0.0347\n",
      "Epoch: 30/200,  Train Loss: 0.9435,  Val Loss: 0.0902,  R^2: 0.1401, -0.0055, 0.8328, 0.9976, 0.0528\n",
      "Epoch: 31/200,  Train Loss: 0.8924,  Val Loss: 0.0946,  R^2: -0.0344, -0.0283, 0.8574, 0.9964, 0.0500\n",
      "saving model...\n",
      "Epoch: 32/200,  Train Loss: 0.9664,  Val Loss: 0.0920,  R^2: 0.2627, -0.0098, 0.8398, 0.9971, 0.0337\n",
      "saving model...\n",
      "Epoch: 33/200,  Train Loss: 0.8874,  Val Loss: 0.0908,  R^2: 0.2317, -0.0388, 0.8412, 0.9973, 0.0229\n",
      "saving model...\n",
      "Epoch: 34/200,  Train Loss: 0.9130,  Val Loss: 0.0870,  R^2: 0.2582, -0.0127, 0.8514, 0.9972, 0.0460\n",
      "saving model...\n",
      "Epoch: 35/200,  Train Loss: 0.8850,  Val Loss: 0.0810,  R^2: 0.2409, -0.0143, 0.8298, 0.9984, 0.0446\n",
      "Epoch: 36/200,  Train Loss: 1.0017,  Val Loss: 0.0993,  R^2: 0.2112, -0.1230, 0.8118, 0.9975, -0.0067\n",
      "saving model...\n",
      "Epoch: 37/200,  Train Loss: 0.8483,  Val Loss: 0.0972,  R^2: 0.2581, 0.0025, 0.7822, 0.9984, 0.0150\n",
      "saving model...\n",
      "Epoch: 38/200,  Train Loss: 0.9630,  Val Loss: 0.0937,  R^2: 0.2178, -0.0117, 0.8277, 0.9974, 0.0409\n",
      "saving model...\n",
      "Epoch: 39/200,  Train Loss: 0.8854,  Val Loss: 0.0925,  R^2: 0.2485, -0.0356, 0.8329, 0.9972, -0.0235\n",
      "saving model...\n",
      "Epoch: 40/200,  Train Loss: 0.7449,  Val Loss: 0.0686,  R^2: 0.2663, -0.0169, 0.8606, 0.9985, -0.0135\n",
      "Epoch: 41/200,  Train Loss: 0.7692,  Val Loss: 0.0744,  R^2: 0.2666, 0.0027, 0.8515, 0.9983, 0.0181\n",
      "Epoch: 42/200,  Train Loss: 0.8517,  Val Loss: 0.0767,  R^2: 0.2151, -0.0518, 0.8659, 0.9977, 0.0346\n",
      "saving model...\n",
      "Epoch: 43/200,  Train Loss: 0.8109,  Val Loss: 0.0739,  R^2: 0.2329, -0.1872, 0.8519, 0.9983, 0.0371\n",
      "Epoch: 44/200,  Train Loss: 0.9899,  Val Loss: 0.0810,  R^2: 0.2171, -0.1917, 0.8344, 0.9982, 0.0322\n",
      "saving model...\n",
      "Epoch: 45/200,  Train Loss: 0.8473,  Val Loss: 0.0807,  R^2: 0.2296, -0.0919, 0.8572, 0.9976, 0.0371\n",
      "saving model...\n",
      "Epoch: 46/200,  Train Loss: 0.9795,  Val Loss: 0.0754,  R^2: 0.1801, -0.0689, 0.8466, 0.9983, 0.0381\n",
      "saving model...\n",
      "Epoch: 47/200,  Train Loss: 0.9778,  Val Loss: 0.0693,  R^2: 0.2329, -0.0511, 0.8618, 0.9984, 0.0359\n",
      "Epoch: 48/200,  Train Loss: 0.9897,  Val Loss: 0.0840,  R^2: 0.2095, -0.0346, 0.8245, 0.9983, 0.0425\n",
      "Epoch: 49/200,  Train Loss: 0.6904,  Val Loss: 0.0842,  R^2: 0.2383, -0.0008, 0.8336, 0.9980, 0.0293\n",
      "saving model...\n",
      "Epoch: 50/200,  Train Loss: 0.8935,  Val Loss: 0.0748,  R^2: 0.2278, -0.1016, 0.8574, 0.9981, 0.0045\n",
      "Epoch: 51/200,  Train Loss: 0.9264,  Val Loss: 0.0753,  R^2: 0.2322, 0.0033, 0.8445, 0.9984, -0.0326\n",
      "Epoch: 52/200,  Train Loss: 0.8422,  Val Loss: 0.0842,  R^2: 0.2389, -0.0547, 0.8403, 0.9978, 0.0387\n",
      "Epoch: 53/200,  Train Loss: 0.9106,  Val Loss: 0.0862,  R^2: 0.2136, -0.1108, 0.8501, 0.9973, 0.0386\n",
      "saving model...\n",
      "Epoch: 54/200,  Train Loss: 0.8318,  Val Loss: 0.0806,  R^2: 0.2347, -0.0183, 0.8355, 0.9983, 0.0165\n",
      "saving model...\n",
      "Epoch: 55/200,  Train Loss: 0.8942,  Val Loss: 0.0720,  R^2: 0.2100, -0.0150, 0.8596, 0.9983, 0.0395\n",
      "saving model...\n",
      "Epoch: 56/200,  Train Loss: 0.8743,  Val Loss: 0.0682,  R^2: 0.2702, -0.0157, 0.8624, 0.9985, 0.0446\n",
      "Epoch: 57/200,  Train Loss: 1.0571,  Val Loss: 0.0781,  R^2: 0.2436, -0.0010, 0.8656, 0.9975, -0.0305\n",
      "saving model...\n",
      "Epoch: 58/200,  Train Loss: 0.7474,  Val Loss: 0.0709,  R^2: 0.0422, -0.0021, 0.8783, 0.9977, -0.0921\n",
      "Epoch: 59/200,  Train Loss: 1.0087,  Val Loss: 0.0755,  R^2: 0.1386, -0.0037, 0.8576, 0.9980, -0.0306\n",
      "Epoch: 60/200,  Train Loss: 0.8998,  Val Loss: 0.0789,  R^2: 0.2151, -0.0085, 0.8416, 0.9982, -0.0380\n",
      "Epoch: 61/200,  Train Loss: 0.8660,  Val Loss: 0.0837,  R^2: 0.2330, -0.0522, 0.8588, 0.9973, -0.1105\n",
      "Epoch: 62/200,  Train Loss: 0.8476,  Val Loss: 0.0923,  R^2: 0.2632, -0.0129, 0.8349, 0.9973, -0.0430\n",
      "saving model...\n",
      "Epoch: 63/200,  Train Loss: 0.9911,  Val Loss: 0.0855,  R^2: 0.2264, 0.0033, 0.8317, 0.9979, 0.0186\n",
      "Epoch: 64/200,  Train Loss: 1.0161,  Val Loss: 0.0885,  R^2: 0.2464, -0.0108, 0.8579, 0.9969, 0.0421\n",
      "saving model...\n",
      "Epoch: 65/200,  Train Loss: 0.7136,  Val Loss: 0.0767,  R^2: 0.2338, -0.0258, 0.8691, 0.9975, 0.0264\n",
      "Epoch: 66/200,  Train Loss: 0.8425,  Val Loss: 0.1026,  R^2: 0.2445, -0.0614, 0.8510, 0.9959, 0.0473\n",
      "Epoch: 67/200,  Train Loss: 0.8484,  Val Loss: 0.1116,  R^2: 0.2209, -0.0145, 0.8321, 0.9958, 0.0197\n",
      "saving model...\n",
      "Epoch: 68/200,  Train Loss: 0.8146,  Val Loss: 0.0860,  R^2: 0.1867, -0.0105, 0.8583, 0.9971, 0.0320\n",
      "saving model...\n",
      "Epoch: 69/200,  Train Loss: 0.8228,  Val Loss: 0.0653,  R^2: 0.1250, -0.0063, 0.8693, 0.9985, 0.0368\n",
      "Epoch: 70/200,  Train Loss: 0.9779,  Val Loss: 0.0741,  R^2: 0.1266, -0.0206, 0.8605, 0.9980, -0.0256\n",
      "Epoch: 71/200,  Train Loss: 0.7236,  Val Loss: 0.0911,  R^2: 0.2283, -0.0239, 0.8244, 0.9977, 0.0353\n",
      "saving model...\n",
      "Epoch: 72/200,  Train Loss: 0.6831,  Val Loss: 0.0879,  R^2: 0.2707, -0.0853, 0.8443, 0.9974, 0.0407\n",
      "saving model...\n",
      "Epoch: 73/200,  Train Loss: 0.8252,  Val Loss: 0.0745,  R^2: 0.2410, -0.0192, 0.8552, 0.9982, 0.0370\n",
      "Epoch: 74/200,  Train Loss: 0.7421,  Val Loss: 0.0758,  R^2: 0.2394, -0.0032, 0.8489, 0.9983, -0.0192\n",
      "Epoch: 75/200,  Train Loss: 0.9257,  Val Loss: 0.0842,  R^2: 0.2358, -0.0050, 0.8371, 0.9979, -0.1127\n",
      "saving model...\n",
      "Epoch: 76/200,  Train Loss: 0.7497,  Val Loss: 0.0832,  R^2: 0.2126, -0.0127, 0.8446, 0.9977, 0.0290\n",
      "Epoch: 77/200,  Train Loss: 0.9484,  Val Loss: 0.0868,  R^2: 0.2208, -0.0046, 0.8511, 0.9972, -0.0014\n",
      "Epoch: 78/200,  Train Loss: 0.8245,  Val Loss: 0.1032,  R^2: 0.2560, -0.0031, 0.8588, 0.9957, 0.0370\n",
      "saving model...\n",
      "Epoch: 79/200,  Train Loss: 0.8721,  Val Loss: 0.1003,  R^2: 0.2308, -0.0166, 0.8617, 0.9959, -0.0735\n",
      "saving model...\n",
      "Epoch: 80/200,  Train Loss: 0.8110,  Val Loss: 0.0869,  R^2: 0.2509, -0.0119, 0.8623, 0.9969, 0.0404\n",
      "saving model...\n",
      "Epoch: 81/200,  Train Loss: 0.8073,  Val Loss: 0.0745,  R^2: 0.1560, -0.0825, 0.8636, 0.9979, 0.0341\n",
      "Epoch: 82/200,  Train Loss: 0.8448,  Val Loss: 0.0782,  R^2: 0.1888, -0.0195, 0.8482, 0.9980, 0.0228\n",
      "saving model...\n",
      "Epoch: 83/200,  Train Loss: 0.6884,  Val Loss: 0.0697,  R^2: 0.2117, -0.0024, 0.8604, 0.9984, -0.0724\n",
      "Epoch: 84/200,  Train Loss: 0.9752,  Val Loss: 0.0845,  R^2: 0.2219, -0.0170, 0.8603, 0.9971, -0.1602\n",
      "saving model...\n",
      "Epoch: 85/200,  Train Loss: 0.8840,  Val Loss: 0.0677,  R^2: 0.2141, -0.0429, 0.8670, 0.9984, 0.0379\n",
      "Epoch: 86/200,  Train Loss: 0.7359,  Val Loss: 0.0739,  R^2: 0.2499, -0.2134, 0.8722, 0.9977, 0.0400\n",
      "Epoch: 87/200,  Train Loss: 0.8463,  Val Loss: 0.0793,  R^2: 0.1938, -0.0109, 0.8616, 0.9975, 0.0234\n",
      "Epoch: 88/200,  Train Loss: 0.7029,  Val Loss: 0.0921,  R^2: 0.2466, -0.0087, 0.8602, 0.9964, -0.0311\n",
      "saving model...\n",
      "Epoch: 89/200,  Train Loss: 0.9277,  Val Loss: 0.0806,  R^2: 0.2234, -0.0557, 0.8730, 0.9971, 0.0411\n",
      "saving model...\n",
      "Epoch: 90/200,  Train Loss: 0.8451,  Val Loss: 0.0753,  R^2: 0.2612, 0.0036, 0.8643, 0.9978, 0.0297\n",
      "Epoch: 91/200,  Train Loss: 0.8194,  Val Loss: 0.0798,  R^2: 0.2844, -0.0184, 0.8474, 0.9979, -0.0040\n",
      "Epoch: 92/200,  Train Loss: 0.7940,  Val Loss: 0.1011,  R^2: 0.2301, -0.0053, 0.8447, 0.9962, 0.0384\n",
      "saving model...\n",
      "Epoch: 93/200,  Train Loss: 1.0836,  Val Loss: 0.0821,  R^2: 0.2149, -0.1186, 0.8616, 0.9973, 0.0308\n",
      "saving model...\n",
      "Epoch: 94/200,  Train Loss: 0.8591,  Val Loss: 0.0719,  R^2: 0.1525, -0.0537, 0.8804, 0.9976, 0.0031\n",
      "Epoch: 95/200,  Train Loss: 0.8370,  Val Loss: 0.0800,  R^2: 0.1969, -0.0213, 0.8531, 0.9978, 0.0274\n",
      "Epoch: 96/200,  Train Loss: 0.8452,  Val Loss: 0.0835,  R^2: 0.2405, -0.0033, 0.8639, 0.9972, -0.0003\n",
      "Epoch: 97/200,  Train Loss: 0.7069,  Val Loss: 0.0992,  R^2: 0.2408, -0.0256, 0.8490, 0.9962, 0.0218\n",
      "saving model...\n",
      "Epoch: 98/200,  Train Loss: 1.0677,  Val Loss: 0.0871,  R^2: 0.2483, -0.0267, 0.8661, 0.9967, -0.1325\n",
      "saving model...\n",
      "Epoch: 99/200,  Train Loss: 0.9250,  Val Loss: 0.0731,  R^2: 0.2516, -0.0493, 0.8758, 0.9976, -0.0546\n",
      "Epoch: 100/200,  Train Loss: 1.0555,  Val Loss: 0.0734,  R^2: 0.2632, -0.0065, 0.8615, 0.9981, -0.0140\n",
      "Epoch: 101/200,  Train Loss: 0.9836,  Val Loss: 0.0739,  R^2: 0.2258, 0.0021, 0.8503, 0.9983, -0.0268\n",
      "saving model...\n",
      "Epoch: 102/200,  Train Loss: 0.9684,  Val Loss: 0.0727,  R^2: 0.2531, -0.0584, 0.8617, 0.9981, 0.0413\n",
      "saving model...\n",
      "Epoch: 103/200,  Train Loss: 0.8026,  Val Loss: 0.0671,  R^2: 0.2631, -0.0181, 0.8789, 0.9981, 0.0221\n",
      "Epoch: 104/200,  Train Loss: 0.8718,  Val Loss: 0.0682,  R^2: 0.2085, -0.0281, 0.8582, 0.9986, 0.0105\n",
      "Epoch: 105/200,  Train Loss: 0.7834,  Val Loss: 0.0906,  R^2: 0.2312, -0.0036, 0.8425, 0.9971, 0.0157\n",
      "saving model...\n",
      "Epoch: 106/200,  Train Loss: 0.9254,  Val Loss: 0.0833,  R^2: 0.2003, -0.0637, 0.8495, 0.9975, 0.0303\n",
      "saving model...\n",
      "Epoch: 107/200,  Train Loss: 0.9592,  Val Loss: 0.0699,  R^2: 0.2451, -0.0218, 0.8532, 0.9985, -0.0408\n",
      "saving model...\n",
      "Epoch: 108/200,  Train Loss: 0.9155,  Val Loss: 0.0677,  R^2: 0.2522, -0.0655, 0.8716, 0.9982, 0.0343\n",
      "Epoch: 109/200,  Train Loss: 0.6741,  Val Loss: 0.0785,  R^2: 0.2682, -0.0038, 0.8318, 0.9985, -0.1211\n",
      "saving model...\n",
      "Epoch: 110/200,  Train Loss: 0.8082,  Val Loss: 0.0719,  R^2: 0.2068, 0.0030, 0.8604, 0.9982, 0.0265\n",
      "Epoch: 111/200,  Train Loss: 0.8730,  Val Loss: 0.0734,  R^2: 0.2604, -0.0621, 0.8594, 0.9981, 0.0347\n",
      "Epoch: 112/200,  Train Loss: 0.6712,  Val Loss: 0.0774,  R^2: 0.2624, -0.0169, 0.8348, 0.9985, -0.0086\n",
      "saving model...\n",
      "Epoch: 113/200,  Train Loss: 0.6601,  Val Loss: 0.0701,  R^2: 0.2659, -0.0427, 0.8539, 0.9986, 0.0357\n",
      "saving model...\n",
      "Epoch: 114/200,  Train Loss: 0.7943,  Val Loss: 0.0694,  R^2: 0.2343, -0.1003, 0.8697, 0.9982, 0.0343\n",
      "Epoch: 115/200,  Train Loss: 0.8839,  Val Loss: 0.0779,  R^2: 0.2327, -0.0146, 0.8536, 0.9979, 0.0350\n",
      "Epoch: 116/200,  Train Loss: 1.0409,  Val Loss: 0.0799,  R^2: 0.2378, -0.0424, 0.8635, 0.9974, 0.0344\n",
      "saving model...\n",
      "Epoch: 117/200,  Train Loss: 0.7925,  Val Loss: 0.0666,  R^2: 0.2505, -0.0160, 0.8705, 0.9984, 0.0263\n",
      "Epoch: 118/200,  Train Loss: 0.8017,  Val Loss: 0.0782,  R^2: 0.2514, -0.0442, 0.8623, 0.9976, -0.0446\n",
      "Epoch: 119/200,  Train Loss: 0.9595,  Val Loss: 0.0791,  R^2: 0.2613, -0.1480, 0.8702, 0.9973, 0.0300\n",
      "saving model...\n",
      "Epoch: 120/200,  Train Loss: 0.9796,  Val Loss: 0.0774,  R^2: 0.2314, -0.0070, 0.8805, 0.9971, 0.0292\n",
      "saving model...\n",
      "Epoch: 121/200,  Train Loss: 0.9841,  Val Loss: 0.0718,  R^2: 0.2341, -0.0267, 0.8664, 0.9980, 0.0034\n",
      "Epoch: 122/200,  Train Loss: 0.6964,  Val Loss: 0.0814,  R^2: 0.0535, -0.1020, 0.8865, 0.9966, 0.0263\n",
      "saving model...\n",
      "Epoch: 123/200,  Train Loss: 1.0738,  Val Loss: 0.0785,  R^2: 0.1804, -0.0132, 0.8723, 0.9974, 0.0420\n",
      "Epoch: 124/200,  Train Loss: 0.8701,  Val Loss: 0.0846,  R^2: 0.1622, -0.0573, 0.8471, 0.9975, 0.0094\n",
      "saving model...\n",
      "Epoch: 125/200,  Train Loss: 0.8161,  Val Loss: 0.0813,  R^2: 0.2312, -0.0359, 0.8702, 0.9972, -0.0050\n",
      "saving model...\n",
      "Epoch: 126/200,  Train Loss: 0.9547,  Val Loss: 0.0760,  R^2: 0.2391, -0.0158, 0.8680, 0.9977, 0.0053\n",
      "saving model...\n",
      "Epoch: 127/200,  Train Loss: 0.6166,  Val Loss: 0.0735,  R^2: 0.2364, -0.0400, 0.8628, 0.9980, 0.0314\n",
      "saving model...\n",
      "Epoch: 128/200,  Train Loss: 0.7964,  Val Loss: 0.0654,  R^2: 0.2516, -0.0292, 0.8674, 0.9985, 0.0383\n",
      "saving model...\n",
      "Epoch: 129/200,  Train Loss: 0.8187,  Val Loss: 0.0611,  R^2: 0.2436, -0.1021, 0.8879, 0.9983, 0.0356\n",
      "Epoch: 130/200,  Train Loss: 0.9106,  Val Loss: 0.0649,  R^2: 0.2216, -0.0632, 0.8661, 0.9987, 0.0340\n",
      "Epoch: 131/200,  Train Loss: 0.7886,  Val Loss: 0.0664,  R^2: 0.2620, -0.0241, 0.8761, 0.9982, -0.0110\n",
      "Epoch: 132/200,  Train Loss: 0.9397,  Val Loss: 0.0864,  R^2: 0.2459, -0.0033, 0.8537, 0.9972, 0.0044\n",
      "saving model...\n",
      "Epoch: 133/200,  Train Loss: 0.8936,  Val Loss: 0.0699,  R^2: 0.1856, -0.1685, 0.8615, 0.9983, 0.0311\n",
      "Epoch: 134/200,  Train Loss: 0.8019,  Val Loss: 0.0709,  R^2: 0.2086, -0.0043, 0.8573, 0.9984, 0.0263\n",
      "saving model...\n",
      "Epoch: 135/200,  Train Loss: 0.8071,  Val Loss: 0.0694,  R^2: 0.2086, -0.0244, 0.8599, 0.9984, 0.0349\n",
      "Epoch: 136/200,  Train Loss: 0.7641,  Val Loss: 0.0721,  R^2: 0.2495, -0.0015, 0.8715, 0.9979, 0.0244\n",
      "saving model...\n",
      "Epoch: 137/200,  Train Loss: 0.8107,  Val Loss: 0.0618,  R^2: 0.2446, -0.0703, 0.8793, 0.9985, 0.0334\n",
      "Epoch: 138/200,  Train Loss: 0.9517,  Val Loss: 0.0750,  R^2: 0.2516, -0.0456, 0.8585, 0.9980, -0.0049\n",
      "Epoch: 139/200,  Train Loss: 0.8380,  Val Loss: 0.0769,  R^2: 0.2215, 0.0038, 0.8591, 0.9978, -0.0016\n",
      "Epoch: 140/200,  Train Loss: 0.7575,  Val Loss: 0.0868,  R^2: 0.2069, -0.0121, 0.8635, 0.9969, -0.0566\n",
      "saving model...\n",
      "Epoch: 141/200,  Train Loss: 0.7358,  Val Loss: 0.0603,  R^2: 0.2700, -0.1397, 0.8802, 0.9986, 0.0251\n",
      "Epoch: 142/200,  Train Loss: 0.7719,  Val Loss: 0.0826,  R^2: 0.2431, -0.1547, 0.8690, 0.9971, 0.0332\n",
      "saving model...\n",
      "Epoch: 143/200,  Train Loss: 0.7378,  Val Loss: 0.0718,  R^2: 0.1892, -0.0118, 0.8800, 0.9976, -0.2293\n",
      "saving model...\n",
      "Epoch: 144/200,  Train Loss: 1.0463,  Val Loss: 0.0604,  R^2: 0.2456, -0.0571, 0.8738, 0.9988, 0.0247\n",
      "Epoch: 145/200,  Train Loss: 1.0816,  Val Loss: 0.0682,  R^2: 0.2255, -0.0268, 0.8534, 0.9988, 0.0360\n",
      "Epoch: 146/200,  Train Loss: 0.8831,  Val Loss: 0.0799,  R^2: 0.2238, -0.0974, 0.8520, 0.9978, -0.1221\n",
      "saving model...\n",
      "Epoch: 147/200,  Train Loss: 0.8271,  Val Loss: 0.0747,  R^2: 0.1979, -0.0158, 0.8664, 0.9978, -0.0162\n",
      "saving model...\n",
      "Epoch: 148/200,  Train Loss: 0.7034,  Val Loss: 0.0694,  R^2: 0.1925, -0.0445, 0.8760, 0.9980, 0.0445\n",
      "saving model...\n",
      "Epoch: 149/200,  Train Loss: 0.7137,  Val Loss: 0.0633,  R^2: -0.1283, -0.0955, 0.8706, 0.9986, -0.0788\n",
      "Epoch: 150/200,  Train Loss: 0.7435,  Val Loss: 0.0635,  R^2: 0.1303, -0.1545, 0.8689, 0.9987, 0.0105\n",
      "Epoch: 151/200,  Train Loss: 0.7934,  Val Loss: 0.0688,  R^2: 0.2049, -0.0472, 0.8644, 0.9984, 0.0446\n",
      "Epoch: 152/200,  Train Loss: 0.8651,  Val Loss: 0.0735,  R^2: 0.2437, -0.2714, 0.8714, 0.9977, 0.0401\n",
      "Epoch: 153/200,  Train Loss: 0.7416,  Val Loss: 0.0840,  R^2: 0.2297, -0.4102, 0.8635, 0.9971, -0.0405\n",
      "saving model...\n",
      "Epoch: 154/200,  Train Loss: 0.7578,  Val Loss: 0.0786,  R^2: 0.2449, -0.0106, 0.8503, 0.9979, -0.1146\n",
      "Epoch: 155/200,  Train Loss: 0.9131,  Val Loss: 0.0891,  R^2: 0.2590, -0.0087, 0.8642, 0.9965, -0.2216\n",
      "saving model...\n",
      "Epoch: 156/200,  Train Loss: 0.7526,  Val Loss: 0.0735,  R^2: 0.1236, -0.0676, 0.8724, 0.9977, 0.0374\n",
      "saving model...\n",
      "Epoch: 157/200,  Train Loss: 0.8689,  Val Loss: 0.0613,  R^2: 0.2195, -0.0267, 0.8832, 0.9984, -0.0024\n",
      "Epoch: 158/200,  Train Loss: 0.7886,  Val Loss: 0.0714,  R^2: 0.2210, -0.0427, 0.8751, 0.9978, -0.0201\n",
      "saving model...\n",
      "Epoch: 159/200,  Train Loss: 0.8161,  Val Loss: 0.0699,  R^2: 0.2547, 0.0002, 0.8701, 0.9981, 0.0314\n",
      "saving model...\n",
      "Epoch: 160/200,  Train Loss: 0.8474,  Val Loss: 0.0677,  R^2: 0.2410, -0.0322, 0.8704, 0.9982, -0.0199\n",
      "Epoch: 161/200,  Train Loss: 0.8976,  Val Loss: 0.0806,  R^2: 0.1966, -0.2746, 0.8804, 0.9969, -0.0188\n",
      "saving model...\n",
      "Epoch: 162/200,  Train Loss: 0.9341,  Val Loss: 0.0641,  R^2: 0.2413, -0.0428, 0.8753, 0.9984, 0.0439\n",
      "Epoch: 163/200,  Train Loss: 0.9648,  Val Loss: 0.0710,  R^2: 0.2201, -0.0073, 0.8772, 0.9979, 0.0322\n",
      "saving model...\n",
      "Epoch: 164/200,  Train Loss: 0.8411,  Val Loss: 0.0688,  R^2: 0.2195, -0.1457, 0.8712, 0.9982, -0.0750\n",
      "saving model...\n",
      "Epoch: 165/200,  Train Loss: 0.6623,  Val Loss: 0.0570,  R^2: 0.2242, 0.0027, 0.8849, 0.9987, 0.0033\n",
      "Epoch: 166/200,  Train Loss: 0.7980,  Val Loss: 0.0608,  R^2: 0.2510, -0.1011, 0.8788, 0.9986, 0.0406\n",
      "Epoch: 167/200,  Train Loss: 0.7396,  Val Loss: 0.0615,  R^2: 0.2576, 0.0017, 0.8814, 0.9985, 0.0238\n",
      "Epoch: 168/200,  Train Loss: 0.9760,  Val Loss: 0.0656,  R^2: 0.2308, -0.0252, 0.8808, 0.9981, -0.0112\n",
      "Epoch: 169/200,  Train Loss: 0.7792,  Val Loss: 0.0743,  R^2: 0.0250, -0.0148, 0.8576, 0.9981, 0.0232\n",
      "saving model...\n",
      "Epoch: 170/200,  Train Loss: 0.7267,  Val Loss: 0.0673,  R^2: 0.0878, -0.1472, 0.8545, 0.9988, 0.0267\n",
      "Epoch: 171/200,  Train Loss: 0.8250,  Val Loss: 0.0881,  R^2: 0.2495, -0.0002, 0.8638, 0.9969, -0.1263\n",
      "saving model...\n",
      "Epoch: 172/200,  Train Loss: 0.8311,  Val Loss: 0.0685,  R^2: 0.2531, -0.0020, 0.8634, 0.9984, -0.0165\n",
      "Epoch: 173/200,  Train Loss: 0.8175,  Val Loss: 0.0730,  R^2: 0.1652, -0.0215, 0.8698, 0.9978, 0.0234\n",
      "saving model...\n",
      "Epoch: 174/200,  Train Loss: 0.8604,  Val Loss: 0.0633,  R^2: 0.2131, -0.0167, 0.8766, 0.9984, 0.0214\n",
      "Epoch: 175/200,  Train Loss: 0.6443,  Val Loss: 0.0715,  R^2: 0.2491, 0.0021, 0.8830, 0.9976, 0.0418\n",
      "saving model...\n",
      "Epoch: 176/200,  Train Loss: 0.8358,  Val Loss: 0.0653,  R^2: 0.2235, -0.0488, 0.8737, 0.9984, 0.0119\n",
      "Epoch: 177/200,  Train Loss: 0.8020,  Val Loss: 0.0777,  R^2: 0.1818, 0.0027, 0.8388, 0.9983, 0.0120\n",
      "saving model...\n",
      "Epoch: 178/200,  Train Loss: 0.7636,  Val Loss: 0.0777,  R^2: 0.2252, -0.0900, 0.8579, 0.9978, -0.2336\n",
      "saving model...\n",
      "Epoch: 179/200,  Train Loss: 0.7654,  Val Loss: 0.0704,  R^2: 0.2584, 0.0059, 0.8763, 0.9979, 0.0230\n",
      "saving model...\n",
      "Epoch: 180/200,  Train Loss: 0.9100,  Val Loss: 0.0655,  R^2: 0.2616, -0.0169, 0.8717, 0.9984, -0.0203\n",
      "Epoch: 181/200,  Train Loss: 0.8390,  Val Loss: 0.0729,  R^2: 0.2320, -0.0315, 0.8677, 0.9979, -0.0248\n",
      "Epoch: 182/200,  Train Loss: 0.8519,  Val Loss: 0.0807,  R^2: 0.2745, -0.0123, 0.8789, 0.9969, 0.0201\n",
      "saving model...\n",
      "Epoch: 183/200,  Train Loss: 0.8384,  Val Loss: 0.0769,  R^2: 0.2659, -0.0464, 0.8704, 0.9975, 0.0104\n",
      "saving model...\n",
      "Epoch: 184/200,  Train Loss: 0.9102,  Val Loss: 0.0690,  R^2: 0.1912, -0.1887, 0.8757, 0.9980, 0.0182\n",
      "Epoch: 185/200,  Train Loss: 0.9852,  Val Loss: 0.0875,  R^2: 0.2315, -0.0179, 0.8733, 0.9965, -0.1113\n",
      "saving model...\n",
      "Epoch: 186/200,  Train Loss: 0.8754,  Val Loss: 0.0776,  R^2: 0.2430, -0.1032, 0.8710, 0.9974, -0.0133\n",
      "saving model...\n",
      "Epoch: 187/200,  Train Loss: 0.5991,  Val Loss: 0.0690,  R^2: 0.2253, -0.0063, 0.8596, 0.9985, -0.0522\n",
      "Epoch: 188/200,  Train Loss: 0.8468,  Val Loss: 0.0870,  R^2: 0.2326, -0.0001, 0.8758, 0.9965, -0.0638\n",
      "saving model...\n",
      "Epoch: 189/200,  Train Loss: 0.6981,  Val Loss: 0.0673,  R^2: 0.1979, -0.0003, 0.8739, 0.9982, -0.1738\n",
      "saving model...\n",
      "Epoch: 190/200,  Train Loss: 0.7747,  Val Loss: 0.0665,  R^2: 0.0810, -0.0336, 0.8640, 0.9986, -0.1164\n",
      "Epoch: 191/200,  Train Loss: 0.8617,  Val Loss: 0.0770,  R^2: 0.2655, 0.0010, 0.8697, 0.9975, 0.0327\n",
      "saving model...\n",
      "Epoch: 192/200,  Train Loss: 0.7629,  Val Loss: 0.0691,  R^2: 0.1732, -0.0527, 0.8855, 0.9976, -0.0348\n",
      "Epoch: 193/200,  Train Loss: 0.7025,  Val Loss: 0.0753,  R^2: 0.2382, -0.0721, 0.8703, 0.9976, 0.0297\n",
      "saving model...\n",
      "Epoch: 194/200,  Train Loss: 0.7619,  Val Loss: 0.0635,  R^2: 0.1257, -0.2140, 0.8795, 0.9983, 0.0332\n",
      "Epoch: 195/200,  Train Loss: 0.8402,  Val Loss: 0.0686,  R^2: 0.2184, -0.0002, 0.8545, 0.9986, 0.0286\n",
      "saving model...\n",
      "Epoch: 196/200,  Train Loss: 0.7595,  Val Loss: 0.0665,  R^2: 0.1901, -0.0100, 0.8771, 0.9981, -0.0511\n",
      "Epoch: 197/200,  Train Loss: 0.7420,  Val Loss: 0.0730,  R^2: 0.1672, -0.0056, 0.8569, 0.9982, 0.0368\n",
      "saving model...\n",
      "Epoch: 198/200,  Train Loss: 0.9220,  Val Loss: 0.0647,  R^2: 0.2542, -0.0330, 0.8874, 0.9980, 0.0216\n",
      "saving model...\n",
      "Epoch: 199/200,  Train Loss: 0.9373,  Val Loss: 0.0621,  R^2: 0.2665, -0.1222, 0.8835, 0.9983, 0.0073\n",
      "Epoch: 200/200,  Train Loss: 0.6260,  Val Loss: 0.0709,  R^2: 0.2534, 0.0007, 0.8869, 0.9974, 0.0205\n"
     ]
    }
   ],
   "source": [
    "criterion = nn.MSELoss()\n",
    "optimizer = torch.optim.Adam(model.parameters(), lr=0.0005)\n",
    "training(model, optimizer, criterion)"
   ]
  },
  {
   "cell_type": "markdown",
   "metadata": {},
   "source": [
    "## Plotting\n",
    "### load the best model"
   ]
  },
  {
   "cell_type": "code",
   "execution_count": 50,
   "metadata": {},
   "outputs": [],
   "source": [
    "bst_model = model.load_state_dict(torch.load('state_dict.pt'))"
   ]
  },
  {
   "cell_type": "markdown",
   "metadata": {},
   "source": [
    "### Using test dataset"
   ]
  },
  {
   "cell_type": "code",
   "execution_count": 48,
   "metadata": {},
   "outputs": [],
   "source": [
    "test_df = parse_data('test.npy')\n",
    "test_ds = SPDataset(test_df)\n",
    "test_dl = DataLoader(test_ds, batch_size=300)"
   ]
  },
  {
   "cell_type": "code",
   "execution_count": 54,
   "metadata": {},
   "outputs": [],
   "source": [
    " def test_model(dataloader, model):\n",
    "    y_pred = []\n",
    "    y_all = []\n",
    "    for x, y in dataloader:\n",
    "        y_all.append(y)\n",
    "        x = torch.FloatTensor(x.float()).transpose(1,2).to(device)\n",
    "        y = torch.FloatTensor(y.float()).to(device)\n",
    "        out = model(x)\n",
    "        y_pred.append(out.detach().cpu().numpy())\n",
    "\n",
    "    y_pred = np.vstack(y_pred)\n",
    "    y_all = np.vstack(y_all)\n",
    "    r1 = r2_score(y_all[:,0], y_pred[:,0])\n",
    "    r2 = r2_score(y_all[:,1], y_pred[:,1])\n",
    "    r3 = r2_score(y_all[:,2], y_pred[:,2])\n",
    "    r4 = r2_score(y_all[:,3], y_pred[:,3])\n",
    "    r5 = r2_score(y_all[:,4], y_pred[:,4])\n",
    "    return y_pred, y_all, r1, r2, r3, r4, r5"
   ]
  },
  {
   "cell_type": "code",
   "execution_count": 55,
   "metadata": {},
   "outputs": [],
   "source": [
    "y_pred, y_all, r1, r2, r3, r4, r5 = test_model(test_dl, model)"
   ]
  },
  {
   "cell_type": "code",
   "execution_count": 81,
   "metadata": {},
   "outputs": [
    {
     "data": {
      "image/png": "[encoded data removed]",
      "text/plain": [
       "<Figure size 1800x360 with 5 Axes>"
      ]
     },
     "metadata": {
      "needs_background": "light"
     },
     "output_type": "display_data"
    }
   ],
   "source": [
    "fig, axs = plt.subplots(1, 5, figsize=(25,5), sharex=False, sharey=False)\n",
    "for i in range(5):\n",
    "    axs[i].scatter(y_all[:, i], y_pred[:, i], color='lightblue')\n",
    "    axs[i].plot(y_all[:, i], y_all[:, i], 'g')\n",
    "    axs[i].set_xlabel('y true')\n",
    "    axs[i].set_ylabel('y prediction')"
   ]
  },
  {
   "cell_type": "code",
   "execution_count": null,
   "metadata": {},
   "outputs": [],
   "source": []
  }
 ],
 "metadata": {
  "kernelspec": {
   "display_name": "Python 3",
   "language": "python",
   "name": "python3"
  },
  "language_info": {
   "codemirror_mode": {
    "name": "ipython",
    "version": 3
   },
   "file_extension": ".py",
   "mimetype": "text/x-python",
   "name": "python",
   "nbconvert_exporter": "python",
   "pygments_lexer": "ipython3",
   "version": "3.7.4"
  }
 },
 "nbformat": 4,
 "nbformat_minor": 2
}
