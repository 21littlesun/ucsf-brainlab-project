{
 "cells": [
  {
   "cell_type": "markdown",
   "metadata": {},
   "source": [
    "# Recurrent Neural Network Model (LSTM Model)"
   ]
  },
  {
   "cell_type": "markdown",
   "metadata": {},
   "source": [
    "## Model with 5 seperate linear layers\n",
    "In this nb, I tried to **build a seperate linear layer for each parameter(output)**. Since then, the model has 5 linear layers and the data feed in will be unscaled."
   ]
  },
  {
   "cell_type": "code",
   "execution_count": 1,
   "metadata": {},
   "outputs": [],
   "source": [
    "import torch\n",
    "import torch.nn as nn\n",
    "import torch.nn.functional as F\n",
    "import torch.optim as optim\n",
    "from torch.utils.data import Dataset, DataLoader"
   ]
  },
  {
   "cell_type": "code",
   "execution_count": 37,
   "metadata": {},
   "outputs": [],
   "source": [
    "import matplotlib.pyplot as plt\n",
    "import pickle\n",
    "%matplotlib inline\n",
    "\n",
    "# Load h5 spectra and model parameters\n",
    "import numpy as np\n",
    "import pandas as pd\n",
    "import os\n",
    "import h5py\n",
    "import tables\n",
    "# from sklearn.preprocessing import MinMaxScaler\n",
    "from sklearn.metrics import r2_score\n",
    "import time\n",
    "from IPython.display import Markdown, display"
   ]
  },
  {
   "cell_type": "code",
   "execution_count": 3,
   "metadata": {},
   "outputs": [],
   "source": [
    "from pathlib import Path\n",
    "PATH = Path(\"/mnt/wamri/brainlabs/lexie/spectrome-ai/data\")"
   ]
  },
  {
   "cell_type": "code",
   "execution_count": 4,
   "metadata": {},
   "outputs": [],
   "source": [
    "import os\n",
    "os.environ[\"CUDA_VISIBLE_DEVICES\"] = \"3\""
   ]
  },
  {
   "cell_type": "markdown",
   "metadata": {},
   "source": [
    "## Get Data\n",
    "### Read from clean files"
   ]
  },
  {
   "cell_type": "markdown",
   "metadata": {},
   "source": []
  },
  {
   "cell_type": "code",
   "execution_count": 5,
   "metadata": {},
   "outputs": [],
   "source": [
    "def parse_data(path: str):\n",
    "    # load data from the disk\n",
    "    data = np.load(PATH/path, allow_pickle=True)\n",
    "    df = pd.DataFrame(data=data, index=data[:,0:5])\n",
    "    df = df.drop([0, 1, 2, 3, 4], axis=1)\n",
    "    df = df.reset_index()\n",
    "    df.columns = ['params', 'freq']\n",
    "    return df"
   ]
  },
  {
   "cell_type": "code",
   "execution_count": 6,
   "metadata": {},
   "outputs": [],
   "source": [
    "train_df = parse_data('train.npy')"
   ]
  },
  {
   "cell_type": "code",
   "execution_count": 7,
   "metadata": {},
   "outputs": [],
   "source": [
    "val_df = parse_data('val.npy')"
   ]
  },
  {
   "cell_type": "code",
   "execution_count": 8,
   "metadata": {},
   "outputs": [
    {
     "data": {
      "text/html": [
       "<div>\n",
       "<style scoped>\n",
       "    .dataframe tbody tr th:only-of-type {\n",
       "        vertical-align: middle;\n",
       "    }\n",
       "\n",
       "    .dataframe tbody tr th {\n",
       "        vertical-align: top;\n",
       "    }\n",
       "\n",
       "    .dataframe thead th {\n",
       "        text-align: right;\n",
       "    }\n",
       "</style>\n",
       "<table border=\"1\" class=\"dataframe\">\n",
       "  <thead>\n",
       "    <tr style=\"text-align: right;\">\n",
       "      <th></th>\n",
       "      <th>params</th>\n",
       "      <th>freq</th>\n",
       "    </tr>\n",
       "  </thead>\n",
       "  <tbody>\n",
       "    <tr>\n",
       "      <th>0</th>\n",
       "      <td>(0.006774817007605203, 0.02009569890767441, 0....</td>\n",
       "      <td>[[(-0.5363079897402153+0.23131415988148957j), ...</td>\n",
       "    </tr>\n",
       "    <tr>\n",
       "      <th>1</th>\n",
       "      <td>(0.006665624695702036, 0.007136992805070295, 1...</td>\n",
       "      <td>[[(-0.8445742133913164-0.12417212129587563j), ...</td>\n",
       "    </tr>\n",
       "    <tr>\n",
       "      <th>2</th>\n",
       "      <td>(0.009857082118029867, 0.011149760592540766, 1...</td>\n",
       "      <td>[[(-0.16362021960862128-0.21202572414360818j),...</td>\n",
       "    </tr>\n",
       "  </tbody>\n",
       "</table>\n",
       "</div>"
      ],
      "text/plain": [
       "                                              params  \\\n",
       "0  (0.006774817007605203, 0.02009569890767441, 0....   \n",
       "1  (0.006665624695702036, 0.007136992805070295, 1...   \n",
       "2  (0.009857082118029867, 0.011149760592540766, 1...   \n",
       "\n",
       "                                                freq  \n",
       "0  [[(-0.5363079897402153+0.23131415988148957j), ...  \n",
       "1  [[(-0.8445742133913164-0.12417212129587563j), ...  \n",
       "2  [[(-0.16362021960862128-0.21202572414360818j),...  "
      ]
     },
     "execution_count": 8,
     "metadata": {},
     "output_type": "execute_result"
    }
   ],
   "source": [
    "train_df.head(3)"
   ]
  },
  {
   "cell_type": "markdown",
   "metadata": {},
   "source": [
    "### Dataset"
   ]
  },
  {
   "cell_type": "code",
   "execution_count": 11,
   "metadata": {},
   "outputs": [],
   "source": [
    "class SPDataset(Dataset):\n",
    "    def __init__(self, df):\n",
    "        self.df = df\n",
    "        self.x = np.abs(np.array(self.df['freq']))\n",
    "        self.y = np.array(list(self.df['params']))\n",
    "\n",
    "    def __len__(self):\n",
    "        \"\"\" Length of the dataset \"\"\"\n",
    "        N, _ = self.df.shape\n",
    "        return N\n",
    "\n",
    "    def __getitem__(self, idx):\n",
    "        \"\"\" returns x[idx], y[idx] for this dataset\"\"\"\n",
    "        x = self.x[idx]\n",
    "        y = self.y[idx]\n",
    "        return x, y"
   ]
  },
  {
   "cell_type": "code",
   "execution_count": 12,
   "metadata": {},
   "outputs": [],
   "source": [
    "train_ds = SPDataset(train_df)\n",
    "valid_ds = SPDataset(val_df)"
   ]
  },
  {
   "cell_type": "markdown",
   "metadata": {},
   "source": [
    "### DataLoader"
   ]
  },
  {
   "cell_type": "code",
   "execution_count": 13,
   "metadata": {},
   "outputs": [],
   "source": [
    "train_dl = DataLoader(train_ds, batch_size=300, shuffle=True)\n",
    "valid_dl = DataLoader(valid_ds, batch_size=300)"
   ]
  },
  {
   "cell_type": "markdown",
   "metadata": {},
   "source": [
    "## Model \n",
    "### parameter setting"
   ]
  },
  {
   "cell_type": "code",
   "execution_count": 14,
   "metadata": {},
   "outputs": [],
   "source": [
    "input_size = 86\n",
    "hidden_dim = 50\n",
    "n_layers = 3\n",
    "seq_len = 40\n",
    "output_size = 5\n",
    "batch_size = 300"
   ]
  },
  {
   "cell_type": "code",
   "execution_count": 15,
   "metadata": {},
   "outputs": [],
   "source": [
    "# check if a GPU is available\n",
    "is_cuda = torch.cuda.is_available()\n",
    "if is_cuda:\n",
    "    device = torch.device(\"cuda\")\n",
    "else:\n",
    "    device = torch.device(\"cpu\")"
   ]
  },
  {
   "cell_type": "markdown",
   "metadata": {},
   "source": [
    "### model setting"
   ]
  },
  {
   "cell_type": "code",
   "execution_count": 16,
   "metadata": {},
   "outputs": [],
   "source": [
    "class LSTMNet(nn.Module):\n",
    "    def __init__(self, input_size, output_size, hidden_dim, n_layers, seq_len, batch_size, drop_prob=0.5):\n",
    "        super(LSTMNet, self).__init__()\n",
    "        self.input_size = input_size\n",
    "        self.output_size = output_size\n",
    "        self.n_layers = n_layers\n",
    "        self.hidden_dim = hidden_dim\n",
    "        self.seq_len = seq_len\n",
    "        self.lstm = nn.LSTM(input_size, hidden_dim, n_layers, dropout=drop_prob, batch_first=True)\n",
    "        self.dropout = nn.Dropout(drop_prob)\n",
    "        self.linear1 = nn.Linear(hidden_dim, 1)\n",
    "        self.linear2 = nn.Linear(hidden_dim, 1)\n",
    "        self.linear3 = nn.Linear(hidden_dim, 1)\n",
    "        self.linear4 = nn.Linear(hidden_dim, 1)\n",
    "        self.linear5 = nn.Linear(hidden_dim, 1)\n",
    "    \n",
    "    def forward(self, x):\n",
    "        lstm_out, (lstm_ht, lstm_ct) = self.lstm(x)\n",
    "        lstm_ht[-1] = self.dropout(lstm_ht[-1])\n",
    "        out1 = self.linear1(lstm_ht[-1])\n",
    "        out2 = self.linear2(lstm_ht[-1])\n",
    "        out3 = self.linear3(lstm_ht[-1])\n",
    "        out4 = self.linear4(lstm_ht[-1])\n",
    "        out5 = self.linear5(lstm_ht[-1])\n",
    "        out = torch.cat([out1, out2, out3, out4, out5], 1)\n",
    "        return out"
   ]
  },
  {
   "cell_type": "code",
   "execution_count": 17,
   "metadata": {
    "scrolled": true
   },
   "outputs": [
    {
     "data": {
      "text/plain": [
       "LSTMNet(\n",
       "  (lstm): LSTM(86, 50, num_layers=3, batch_first=True, dropout=0.5)\n",
       "  (dropout): Dropout(p=0.5, inplace=False)\n",
       "  (linear1): Linear(in_features=50, out_features=1, bias=True)\n",
       "  (linear2): Linear(in_features=50, out_features=1, bias=True)\n",
       "  (linear3): Linear(in_features=50, out_features=1, bias=True)\n",
       "  (linear4): Linear(in_features=50, out_features=1, bias=True)\n",
       "  (linear5): Linear(in_features=50, out_features=1, bias=True)\n",
       ")"
      ]
     },
     "execution_count": 17,
     "metadata": {},
     "output_type": "execute_result"
    }
   ],
   "source": [
    "model = LSTMNet(input_size, output_size, hidden_dim, n_layers, seq_len, batch_size)\n",
    "model.to(device)"
   ]
  },
  {
   "cell_type": "code",
   "execution_count": 18,
   "metadata": {},
   "outputs": [],
   "source": [
    "def R2_report(dataloader, model):\n",
    "    y_pred = []\n",
    "    y_all = []\n",
    "    model.eval()\n",
    "    for x, y in dataloader:\n",
    "        y_all.append(y)\n",
    "        x = torch.FloatTensor(x.float()).transpose(1,2).to(device)\n",
    "        y = torch.FloatTensor(y.float()).to(device)\n",
    "        out = model(x)\n",
    "        y_pred.append(out.detach().cpu().numpy())\n",
    "\n",
    "    y_pred = np.vstack(y_pred)\n",
    "    y_all = np.vstack(y_all)\n",
    "    r1 = r2_score(y_all[:,0], y_pred[:,0])\n",
    "    r2 = r2_score(y_all[:,1], y_pred[:,1])\n",
    "    r3 = r2_score(y_all[:,2], y_pred[:,2])\n",
    "    r4 = r2_score(y_all[:,3], y_pred[:,3])\n",
    "    r5 = r2_score(y_all[:,4], y_pred[:,4])\n",
    "    return r1, r2, r3, r4, r5"
   ]
  },
  {
   "cell_type": "code",
   "execution_count": 19,
   "metadata": {},
   "outputs": [],
   "source": [
    "def val_matrics(model):\n",
    "    valid_losses = []\n",
    "    model.eval()\n",
    "    for x_val, y_val in valid_dl:\n",
    "        x_valid = torch.FloatTensor(x_val.float()).transpose(1,2).to(device)\n",
    "        y_valid = torch.FloatTensor(y_val.float()).to(device)\n",
    "        out_valid = model(x_valid)\n",
    "        valid_loss = criterion(out_valid, y_valid)\n",
    "        valid_losses.append(valid_loss.item())\n",
    "    return valid_losses"
   ]
  },
  {
   "cell_type": "code",
   "execution_count": 20,
   "metadata": {},
   "outputs": [],
   "source": [
    "def training(model, optimizer, criterion, epochs=200):\n",
    "    valid_loss_min = np.Inf\n",
    "    for i in range(epochs):\n",
    "        model.train()\n",
    "        for x, y in train_dl:\n",
    "            x = torch.FloatTensor(x.float()).transpose(1,2).to(device)\n",
    "            y = torch.FloatTensor(y.float()).to(device)\n",
    "            out = model(x)\n",
    "            optimizer.zero_grad()\n",
    "            loss = criterion(out, y)\n",
    "            loss.backward(retain_graph=True)\n",
    "            optimizer.step()\n",
    "        val_losses = val_matrics(model)\n",
    "        r1, r2, r3, r4, r5 =  R2_report(valid_dl, model)\n",
    "        if np.mean(val_losses) <= valid_loss_min:\n",
    "            torch.save(model.state_dict(), './state_dict.pt')\n",
    "            print('saving model...')\n",
    "        print(\"Epoch: {}/{}, \".format(i+1, epochs),\n",
    "              \"Train Loss: {:.4f}, \".format(loss.item()),\n",
    "              \"Val Loss: {:.4f}, \".format(np.mean(val_losses)),\n",
    "              \"R^2: {:.4f}, {:.4f}, {:.4f}, {:.4f}, {:.4f}\".format(r1, r2, r3, r4, r5))\n",
    "        valid_loss_min = np.mean(val_losses)"
   ]
  },
  {
   "cell_type": "code",
   "execution_count": 61,
   "metadata": {
    "scrolled": true
   },
   "outputs": [
    {
     "name": "stdout",
     "output_type": "stream",
     "text": [
      "saving model...\n",
      "Epoch: 1/200,  Train Loss: 1.2692,  Val Loss: 0.1758,  R^2: 0.1523, -0.0829, 0.6821, 0.9952, 0.0786\n",
      "saving model...\n",
      "Epoch: 2/200,  Train Loss: 1.1024,  Val Loss: 0.1675,  R^2: 0.1483, -0.0451, 0.6741, 0.9961, 0.0735\n",
      "saving model...\n",
      "Epoch: 3/200,  Train Loss: 1.0469,  Val Loss: 0.1641,  R^2: 0.1669, -0.0001, 0.6683, 0.9965, 0.0677\n",
      "saving model...\n",
      "Epoch: 4/200,  Train Loss: 1.4218,  Val Loss: 0.1630,  R^2: 0.1636, -0.0127, 0.6805, 0.9963, 0.0742\n",
      "saving model...\n",
      "Epoch: 5/200,  Train Loss: 1.0204,  Val Loss: 0.1571,  R^2: 0.1582, -0.0001, 0.6852, 0.9966, 0.0696\n",
      "saving model...\n",
      "Epoch: 6/200,  Train Loss: 0.9456,  Val Loss: 0.1564,  R^2: 0.1666, 0.0014, 0.6815, 0.9968, 0.0806\n",
      "saving model...\n",
      "Epoch: 7/200,  Train Loss: 1.1031,  Val Loss: 0.1538,  R^2: 0.1726, -0.0016, 0.6834, 0.9969, 0.0502\n",
      "Epoch: 8/200,  Train Loss: 1.0411,  Val Loss: 0.1541,  R^2: 0.1525, -0.0054, 0.6866, 0.9968, 0.0473\n",
      "Epoch: 9/200,  Train Loss: 0.8698,  Val Loss: 0.1553,  R^2: 0.1287, -0.0059, 0.6870, 0.9967, 0.0700\n",
      "Epoch: 10/200,  Train Loss: 1.0540,  Val Loss: 0.1594,  R^2: 0.1176, -0.0209, 0.6819, 0.9965, 0.0714\n",
      "Epoch: 11/200,  Train Loss: 1.0801,  Val Loss: 0.1680,  R^2: 0.1721, 0.0022, 0.6925, 0.9954, 0.0722\n",
      "saving model...\n",
      "Epoch: 12/200,  Train Loss: 0.8995,  Val Loss: 0.1508,  R^2: 0.1634, -0.0188, 0.6825, 0.9972, 0.0758\n",
      "Epoch: 13/200,  Train Loss: 0.9971,  Val Loss: 0.1601,  R^2: 0.1673, -0.0162, 0.6843, 0.9964, 0.0666\n",
      "saving model...\n",
      "Epoch: 14/200,  Train Loss: 1.2044,  Val Loss: 0.1557,  R^2: 0.1781, -0.0047, 0.6872, 0.9966, 0.0691\n",
      "Epoch: 15/200,  Train Loss: 1.0383,  Val Loss: 0.1597,  R^2: 0.1692, -0.0180, 0.6740, 0.9967, 0.0665\n",
      "saving model...\n",
      "Epoch: 16/200,  Train Loss: 1.1145,  Val Loss: 0.1508,  R^2: 0.1709, -0.0014, 0.6899, 0.9970, 0.0512\n",
      "Epoch: 17/200,  Train Loss: 1.1113,  Val Loss: 0.1516,  R^2: 0.1649, 0.0006, 0.6831, 0.9971, 0.0646\n",
      "Epoch: 18/200,  Train Loss: 0.9994,  Val Loss: 0.1554,  R^2: 0.1693, 0.0033, 0.6863, 0.9967, 0.0728\n",
      "saving model...\n",
      "Epoch: 19/200,  Train Loss: 1.3095,  Val Loss: 0.1551,  R^2: 0.1621, -0.0009, 0.6829, 0.9968, 0.0690\n",
      "saving model...\n",
      "Epoch: 20/200,  Train Loss: 1.0553,  Val Loss: 0.1527,  R^2: 0.1462, -0.0046, 0.6797, 0.9971, 0.0262\n",
      "saving model...\n",
      "Epoch: 21/200,  Train Loss: 1.0636,  Val Loss: 0.1526,  R^2: 0.1628, -0.0168, 0.6882, 0.9968, 0.0543\n",
      "Epoch: 22/200,  Train Loss: 1.1540,  Val Loss: 0.1545,  R^2: 0.1665, -0.0037, 0.6956, 0.9964, 0.0820\n",
      "saving model...\n",
      "Epoch: 23/200,  Train Loss: 1.0098,  Val Loss: 0.1507,  R^2: 0.1652, 0.0025, 0.6929, 0.9969, 0.0766\n",
      "Epoch: 24/200,  Train Loss: 1.1350,  Val Loss: 0.1550,  R^2: 0.1520, -0.0004, 0.6910, 0.9966, 0.0746\n",
      "saving model...\n",
      "Epoch: 25/200,  Train Loss: 1.2135,  Val Loss: 0.1541,  R^2: 0.1605, -0.0939, 0.6854, 0.9968, 0.0747\n",
      "saving model...\n",
      "Epoch: 26/200,  Train Loss: 1.1966,  Val Loss: 0.1503,  R^2: 0.1642, -0.0048, 0.6825, 0.9972, 0.0773\n",
      "saving model...\n",
      "Epoch: 27/200,  Train Loss: 1.0153,  Val Loss: 0.1496,  R^2: 0.1576, -0.0020, 0.6873, 0.9971, 0.0745\n",
      "saving model...\n",
      "Epoch: 28/200,  Train Loss: 0.9112,  Val Loss: 0.1459,  R^2: 0.1367, -0.0542, 0.6943, 0.9972, 0.0745\n",
      "Epoch: 29/200,  Train Loss: 1.1853,  Val Loss: 0.1465,  R^2: 0.1744, -0.0285, 0.6990, 0.9970, 0.0708\n",
      "saving model...\n",
      "Epoch: 30/200,  Train Loss: 1.1560,  Val Loss: 0.1452,  R^2: 0.1694, -0.0325, 0.6917, 0.9973, 0.0761\n",
      "Epoch: 31/200,  Train Loss: 1.1738,  Val Loss: 0.1487,  R^2: 0.1822, 0.0014, 0.7060, 0.9967, 0.0497\n",
      "saving model...\n",
      "Epoch: 32/200,  Train Loss: 1.1492,  Val Loss: 0.1387,  R^2: 0.1680, -0.0010, 0.6958, 0.9978, 0.0809\n",
      "saving model...\n",
      "Epoch: 33/200,  Train Loss: 1.0860,  Val Loss: 0.1383,  R^2: 0.1645, -0.0260, 0.7015, 0.9976, 0.0396\n",
      "Epoch: 34/200,  Train Loss: 1.0269,  Val Loss: 0.1426,  R^2: 0.1754, 0.0016, 0.7094, 0.9970, 0.0729\n",
      "saving model...\n",
      "Epoch: 35/200,  Train Loss: 0.8577,  Val Loss: 0.1408,  R^2: 0.1775, -0.0032, 0.6994, 0.9975, 0.0808\n",
      "Epoch: 36/200,  Train Loss: 1.1840,  Val Loss: 0.1419,  R^2: 0.1805, 0.0054, 0.6888, 0.9977, 0.0780\n",
      "saving model...\n",
      "Epoch: 37/200,  Train Loss: 1.0939,  Val Loss: 0.1417,  R^2: 0.1792, -0.0028, 0.7026, 0.9973, 0.0850\n",
      "Epoch: 38/200,  Train Loss: 1.0456,  Val Loss: 0.1450,  R^2: 0.1794, -0.0142, 0.7062, 0.9969, 0.0864\n",
      "Epoch: 39/200,  Train Loss: 1.0107,  Val Loss: 0.1472,  R^2: 0.1739, -0.0916, 0.6963, 0.9970, 0.0676\n",
      "saving model...\n",
      "Epoch: 40/200,  Train Loss: 0.9298,  Val Loss: 0.1470,  R^2: 0.1821, -0.0033, 0.7041, 0.9968, 0.0737\n",
      "saving model...\n",
      "Epoch: 41/200,  Train Loss: 0.9611,  Val Loss: 0.1389,  R^2: 0.1813, -0.0242, 0.6895, 0.9979, 0.0703\n",
      "Epoch: 42/200,  Train Loss: 1.0227,  Val Loss: 0.1416,  R^2: 0.1811, -0.0045, 0.7003, 0.9973, 0.0767\n",
      "saving model...\n",
      "Epoch: 43/200,  Train Loss: 0.9909,  Val Loss: 0.1401,  R^2: 0.1791, 0.0014, 0.6998, 0.9975, 0.0681\n",
      "saving model...\n",
      "Epoch: 44/200,  Train Loss: 0.9320,  Val Loss: 0.1380,  R^2: 0.1762, -0.0622, 0.7107, 0.9973, 0.0825\n",
      "Epoch: 45/200,  Train Loss: 1.0792,  Val Loss: 0.1421,  R^2: 0.1728, -0.0009, 0.6998, 0.9973, 0.0509\n",
      "saving model...\n",
      "Epoch: 46/200,  Train Loss: 1.0884,  Val Loss: 0.1344,  R^2: 0.1833, 0.0027, 0.7016, 0.9979, 0.0830\n",
      "Epoch: 47/200,  Train Loss: 1.0664,  Val Loss: 0.1344,  R^2: 0.1531, -0.0367, 0.7107, 0.9976, 0.0793\n",
      "Epoch: 48/200,  Train Loss: 0.8506,  Val Loss: 0.1444,  R^2: 0.1547, 0.0013, 0.6962, 0.9972, 0.0683\n",
      "saving model...\n",
      "Epoch: 49/200,  Train Loss: 1.0169,  Val Loss: 0.1426,  R^2: 0.1779, -0.0702, 0.7033, 0.9971, 0.0742\n",
      "saving model...\n",
      "Epoch: 50/200,  Train Loss: 1.0359,  Val Loss: 0.1400,  R^2: 0.1724, -0.0178, 0.7105, 0.9971, 0.0855\n",
      "Epoch: 51/200,  Train Loss: 0.8953,  Val Loss: 0.1416,  R^2: 0.1780, -0.0132, 0.7141, 0.9969, 0.0818\n",
      "saving model...\n",
      "Epoch: 52/200,  Train Loss: 0.9533,  Val Loss: 0.1377,  R^2: 0.1629, -0.0206, 0.6991, 0.9977, 0.0608\n",
      "Epoch: 53/200,  Train Loss: 1.2158,  Val Loss: 0.1395,  R^2: 0.1787, -0.0193, 0.7071, 0.9973, 0.0771\n",
      "Epoch: 54/200,  Train Loss: 1.0557,  Val Loss: 0.1477,  R^2: 0.1596, -0.0055, 0.7076, 0.9966, 0.0691\n",
      "saving model...\n",
      "Epoch: 55/200,  Train Loss: 0.8138,  Val Loss: 0.1438,  R^2: 0.1828, 0.0036, 0.7008, 0.9971, 0.0762\n",
      "saving model...\n",
      "Epoch: 56/200,  Train Loss: 1.1652,  Val Loss: 0.1357,  R^2: 0.1645, -0.0414, 0.7010, 0.9978, 0.0496\n",
      "Epoch: 57/200,  Train Loss: 1.1279,  Val Loss: 0.1373,  R^2: 0.1628, -0.0080, 0.6983, 0.9977, 0.0762\n",
      "Epoch: 58/200,  Train Loss: 1.0489,  Val Loss: 0.1471,  R^2: 0.1798, -0.0161, 0.7088, 0.9966, 0.0671\n",
      "saving model...\n",
      "Epoch: 59/200,  Train Loss: 1.1318,  Val Loss: 0.1403,  R^2: 0.1626, -0.0101, 0.6981, 0.9975, 0.0696\n",
      "saving model...\n",
      "Epoch: 60/200,  Train Loss: 0.9411,  Val Loss: 0.1376,  R^2: 0.1758, -0.0212, 0.7125, 0.9973, 0.0512\n",
      "Epoch: 61/200,  Train Loss: 0.9078,  Val Loss: 0.1391,  R^2: 0.1467, -0.0493, 0.7092, 0.9972, 0.0731\n",
      "saving model...\n",
      "Epoch: 62/200,  Train Loss: 1.1824,  Val Loss: 0.1343,  R^2: 0.1852, -0.0015, 0.6988, 0.9980, 0.0650\n",
      "saving model...\n",
      "Epoch: 63/200,  Train Loss: 0.9236,  Val Loss: 0.1332,  R^2: 0.1872, -0.0042, 0.7186, 0.9975, 0.0680\n",
      "saving model...\n",
      "Epoch: 64/200,  Train Loss: 1.0930,  Val Loss: 0.1265,  R^2: 0.1332, 0.0012, 0.7149, 0.9982, 0.0682\n",
      "Epoch: 65/200,  Train Loss: 1.2112,  Val Loss: 0.1288,  R^2: 0.1787, -0.0011, 0.7183, 0.9979, 0.0678\n",
      "Epoch: 66/200,  Train Loss: 1.0910,  Val Loss: 0.1344,  R^2: 0.1720, -0.0177, 0.7047, 0.9978, 0.0636\n",
      "saving model...\n",
      "Epoch: 67/200,  Train Loss: 1.0524,  Val Loss: 0.1324,  R^2: 0.1685, -0.0010, 0.7107, 0.9978, 0.0762\n",
      "Epoch: 68/200,  Train Loss: 1.0434,  Val Loss: 0.1338,  R^2: 0.1626, -0.0395, 0.7154, 0.9975, 0.0697\n",
      "saving model...\n",
      "Epoch: 69/200,  Train Loss: 1.0171,  Val Loss: 0.1328,  R^2: 0.1878, 0.0022, 0.7160, 0.9976, 0.0864\n",
      "saving model...\n",
      "Epoch: 70/200,  Train Loss: 1.0571,  Val Loss: 0.1292,  R^2: 0.1868, -0.0045, 0.7195, 0.9978, 0.0841\n",
      "Epoch: 71/200,  Train Loss: 1.1636,  Val Loss: 0.1382,  R^2: 0.1838, -0.0090, 0.7158, 0.9971, 0.0822\n",
      "saving model...\n",
      "Epoch: 72/200,  Train Loss: 1.0862,  Val Loss: 0.1313,  R^2: 0.1861, -0.0048, 0.7059, 0.9980, 0.0730\n",
      "Epoch: 73/200,  Train Loss: 1.1330,  Val Loss: 0.1324,  R^2: 0.1885, -0.0440, 0.7203, 0.9975, 0.0600\n",
      "saving model...\n",
      "Epoch: 74/200,  Train Loss: 0.9597,  Val Loss: 0.1258,  R^2: 0.1825, -0.0095, 0.7152, 0.9982, 0.0774\n",
      "Epoch: 75/200,  Train Loss: 0.9957,  Val Loss: 0.1300,  R^2: 0.1840, -0.0257, 0.7217, 0.9976, 0.0786\n",
      "Epoch: 76/200,  Train Loss: 1.0365,  Val Loss: 0.1344,  R^2: 0.1862, -0.0016, 0.7071, 0.9977, 0.0703\n",
      "Epoch: 77/200,  Train Loss: 1.1159,  Val Loss: 0.1365,  R^2: 0.1897, -0.0054, 0.7220, 0.9971, 0.0633\n",
      "saving model...\n",
      "Epoch: 78/200,  Train Loss: 1.0568,  Val Loss: 0.1348,  R^2: 0.1813, -0.0027, 0.7097, 0.9976, 0.0195\n",
      "saving model...\n",
      "Epoch: 79/200,  Train Loss: 1.0052,  Val Loss: 0.1338,  R^2: 0.1601, -0.0180, 0.7090, 0.9977, 0.0632\n",
      "Epoch: 80/200,  Train Loss: 1.0837,  Val Loss: 0.1377,  R^2: 0.1980, -0.0173, 0.7243, 0.9969, 0.0866\n",
      "saving model...\n",
      "Epoch: 81/200,  Train Loss: 0.9675,  Val Loss: 0.1317,  R^2: 0.1866, -0.0079, 0.7068, 0.9980, 0.0840\n",
      "Epoch: 82/200,  Train Loss: 1.1108,  Val Loss: 0.1318,  R^2: 0.1913, -0.0400, 0.7160, 0.9977, 0.0837\n",
      "Epoch: 83/200,  Train Loss: 0.9917,  Val Loss: 0.1348,  R^2: 0.1981, -0.0038, 0.7175, 0.9974, 0.0740\n",
      "saving model...\n",
      "Epoch: 84/200,  Train Loss: 0.9225,  Val Loss: 0.1265,  R^2: 0.1752, -0.0378, 0.7187, 0.9980, 0.0910\n",
      "Epoch: 85/200,  Train Loss: 0.9583,  Val Loss: 0.1273,  R^2: 0.1739, -0.0061, 0.7213, 0.9979, 0.0762\n",
      "Epoch: 86/200,  Train Loss: 1.0138,  Val Loss: 0.1441,  R^2: 0.1773, -0.0266, 0.7174, 0.9965, 0.0708\n",
      "saving model...\n",
      "Epoch: 87/200,  Train Loss: 1.0806,  Val Loss: 0.1418,  R^2: 0.1692, -0.0064, 0.7100, 0.9969, 0.0348\n",
      "saving model...\n",
      "Epoch: 88/200,  Train Loss: 1.0155,  Val Loss: 0.1324,  R^2: 0.1971, -0.0159, 0.7269, 0.9973, 0.0619\n",
      "saving model...\n",
      "Epoch: 89/200,  Train Loss: 1.0921,  Val Loss: 0.1298,  R^2: 0.1916, -0.0013, 0.7179, 0.9978, 0.0859\n",
      "saving model...\n",
      "Epoch: 90/200,  Train Loss: 1.1384,  Val Loss: 0.1296,  R^2: 0.1926, -0.0174, 0.7215, 0.9977, 0.0853\n",
      "Epoch: 91/200,  Train Loss: 1.0491,  Val Loss: 0.1312,  R^2: 0.1797, -0.0081, 0.7213, 0.9975, 0.0776\n",
      "saving model...\n",
      "Epoch: 92/200,  Train Loss: 0.9752,  Val Loss: 0.1296,  R^2: 0.1894, -0.0150, 0.7210, 0.9977, 0.0771\n",
      "saving model...\n",
      "Epoch: 93/200,  Train Loss: 1.1298,  Val Loss: 0.1255,  R^2: 0.1829, -0.0166, 0.7184, 0.9981, 0.0581\n",
      "Epoch: 94/200,  Train Loss: 1.3280,  Val Loss: 0.1320,  R^2: 0.1776, -0.0021, 0.7250, 0.9973, 0.0772\n",
      "Epoch: 95/200,  Train Loss: 1.0315,  Val Loss: 0.1320,  R^2: 0.1839, -0.0008, 0.7116, 0.9977, 0.0760\n",
      "saving model...\n",
      "Epoch: 96/200,  Train Loss: 1.0171,  Val Loss: 0.1280,  R^2: 0.1877, -0.0408, 0.7186, 0.9979, 0.0593\n",
      "saving model...\n",
      "Epoch: 97/200,  Train Loss: 1.2161,  Val Loss: 0.1248,  R^2: 0.1954, -0.0194, 0.7218, 0.9981, 0.0717\n",
      "saving model...\n",
      "Epoch: 98/200,  Train Loss: 1.0833,  Val Loss: 0.1236,  R^2: 0.1946, -0.0153, 0.7246, 0.9981, 0.0638\n",
      "Epoch: 99/200,  Train Loss: 1.1068,  Val Loss: 0.1315,  R^2: 0.1747, -0.0479, 0.7287, 0.9973, 0.0702\n",
      "saving model...\n",
      "Epoch: 100/200,  Train Loss: 1.1025,  Val Loss: 0.1284,  R^2: 0.1961, -0.0213, 0.7217, 0.9978, 0.0614\n",
      "saving model...\n",
      "Epoch: 101/200,  Train Loss: 0.9042,  Val Loss: 0.1252,  R^2: 0.1789, -0.0359, 0.7249, 0.9979, 0.0683\n",
      "Epoch: 102/200,  Train Loss: 1.1821,  Val Loss: 0.1301,  R^2: 0.1835, -0.1592, 0.7262, 0.9975, 0.0800\n",
      "saving model...\n",
      "Epoch: 103/200,  Train Loss: 1.0363,  Val Loss: 0.1273,  R^2: 0.1689, -0.0313, 0.7219, 0.9978, 0.0714\n",
      "Epoch: 104/200,  Train Loss: 1.1576,  Val Loss: 0.1295,  R^2: 0.1274, -0.0082, 0.7197, 0.9977, 0.0750\n",
      "saving model...\n",
      "Epoch: 105/200,  Train Loss: 1.0354,  Val Loss: 0.1258,  R^2: 0.1910, -0.0033, 0.7272, 0.9978, 0.0763\n",
      "Epoch: 106/200,  Train Loss: 0.9314,  Val Loss: 0.1264,  R^2: 0.1612, -0.0027, 0.7184, 0.9980, 0.0895\n",
      "saving model...\n",
      "Epoch: 107/200,  Train Loss: 1.0255,  Val Loss: 0.1251,  R^2: 0.1932, -0.0177, 0.7171, 0.9982, 0.0899\n",
      "saving model...\n",
      "Epoch: 108/200,  Train Loss: 1.1534,  Val Loss: 0.1227,  R^2: 0.2021, -0.0239, 0.7263, 0.9981, 0.0699\n",
      "saving model...\n",
      "Epoch: 109/200,  Train Loss: 0.9651,  Val Loss: 0.1190,  R^2: 0.1648, -0.0024, 0.7257, 0.9984, 0.0843\n",
      "Epoch: 110/200,  Train Loss: 0.9032,  Val Loss: 0.1246,  R^2: 0.2072, -0.0061, 0.7288, 0.9978, 0.0858\n",
      "Epoch: 111/200,  Train Loss: 0.9654,  Val Loss: 0.1252,  R^2: 0.1837, -0.0250, 0.7226, 0.9980, 0.0648\n",
      "Epoch: 112/200,  Train Loss: 1.1458,  Val Loss: 0.1273,  R^2: 0.1913, -0.0093, 0.7232, 0.9978, 0.0743\n",
      "saving model...\n",
      "Epoch: 113/200,  Train Loss: 1.0365,  Val Loss: 0.1258,  R^2: 0.1920, -0.0206, 0.7206, 0.9980, 0.0792\n",
      "saving model...\n",
      "Epoch: 114/200,  Train Loss: 0.9815,  Val Loss: 0.1202,  R^2: 0.1821, -0.0015, 0.7304, 0.9982, 0.0824\n",
      "Epoch: 115/200,  Train Loss: 0.9200,  Val Loss: 0.1223,  R^2: 0.1991, -0.0017, 0.7276, 0.9981, 0.0826\n",
      "saving model...\n",
      "Epoch: 116/200,  Train Loss: 0.8649,  Val Loss: 0.1218,  R^2: 0.2047, -0.0290, 0.7338, 0.9979, 0.0746\n",
      "saving model...\n",
      "Epoch: 117/200,  Train Loss: 1.1769,  Val Loss: 0.1206,  R^2: 0.1879, -0.0025, 0.7379, 0.9979, 0.0774\n",
      "Epoch: 118/200,  Train Loss: 1.0907,  Val Loss: 0.1277,  R^2: 0.1862, -0.0160, 0.7267, 0.9976, 0.0836\n",
      "saving model...\n",
      "Epoch: 119/200,  Train Loss: 1.2156,  Val Loss: 0.1243,  R^2: 0.1783, 0.0008, 0.7249, 0.9980, 0.0683\n",
      "saving model...\n",
      "Epoch: 120/200,  Train Loss: 0.9564,  Val Loss: 0.1219,  R^2: 0.1903, -0.0331, 0.7267, 0.9982, 0.0781\n",
      "Epoch: 121/200,  Train Loss: 0.9496,  Val Loss: 0.1271,  R^2: 0.1836, 0.0015, 0.7330, 0.9975, 0.0789\n",
      "Epoch: 122/200,  Train Loss: 1.2772,  Val Loss: 0.1281,  R^2: 0.1921, -0.0137, 0.7263, 0.9976, 0.0752\n",
      "saving model...\n",
      "Epoch: 123/200,  Train Loss: 0.8295,  Val Loss: 0.1279,  R^2: 0.1929, -0.0041, 0.7341, 0.9974, 0.0798\n",
      "Epoch: 124/200,  Train Loss: 1.1345,  Val Loss: 0.1284,  R^2: 0.1898, -0.0472, 0.7376, 0.9972, 0.0689\n",
      "saving model...\n",
      "Epoch: 125/200,  Train Loss: 1.1289,  Val Loss: 0.1209,  R^2: 0.1900, 0.0044, 0.7296, 0.9981, 0.0774\n",
      "Epoch: 126/200,  Train Loss: 0.9439,  Val Loss: 0.1280,  R^2: 0.1655, -0.0451, 0.7322, 0.9975, 0.0856\n",
      "saving model...\n",
      "Epoch: 127/200,  Train Loss: 1.1253,  Val Loss: 0.1251,  R^2: 0.1941, -0.0013, 0.7252, 0.9979, 0.0304\n",
      "saving model...\n",
      "Epoch: 128/200,  Train Loss: 1.0691,  Val Loss: 0.1212,  R^2: 0.1832, -0.0170, 0.7296, 0.9981, 0.0672\n",
      "Epoch: 129/200,  Train Loss: 1.0344,  Val Loss: 0.1238,  R^2: 0.1926, -0.0035, 0.7343, 0.9977, 0.0497\n",
      "Epoch: 130/200,  Train Loss: 0.9784,  Val Loss: 0.1345,  R^2: 0.1845, -0.0150, 0.7240, 0.9971, 0.0660\n",
      "saving model...\n",
      "Epoch: 131/200,  Train Loss: 0.9243,  Val Loss: 0.1265,  R^2: 0.2029, 0.0020, 0.7416, 0.9973, 0.0822\n",
      "saving model...\n",
      "Epoch: 132/200,  Train Loss: 1.0742,  Val Loss: 0.1185,  R^2: 0.1782, -0.0015, 0.7337, 0.9982, 0.0690\n",
      "saving model...\n",
      "Epoch: 133/200,  Train Loss: 1.1940,  Val Loss: 0.1177,  R^2: 0.1897, 0.0043, 0.7331, 0.9983, 0.0768\n",
      "Epoch: 134/200,  Train Loss: 1.0975,  Val Loss: 0.1208,  R^2: 0.1711, -0.0001, 0.7406, 0.9978, 0.0773\n",
      "Epoch: 135/200,  Train Loss: 1.0648,  Val Loss: 0.1270,  R^2: 0.1920, -0.0007, 0.7320, 0.9975, 0.0821\n",
      "Epoch: 136/200,  Train Loss: 1.0505,  Val Loss: 0.1309,  R^2: 0.1981, -0.0169, 0.7202, 0.9975, 0.0836\n",
      "saving model...\n",
      "Epoch: 137/200,  Train Loss: 1.0239,  Val Loss: 0.1222,  R^2: 0.1935, -0.0045, 0.7342, 0.9979, 0.0532\n",
      "saving model...\n",
      "Epoch: 138/200,  Train Loss: 1.0763,  Val Loss: 0.1207,  R^2: 0.1977, -0.0193, 0.7405, 0.9978, 0.0789\n",
      "Epoch: 139/200,  Train Loss: 0.9047,  Val Loss: 0.1209,  R^2: 0.1813, -0.0109, 0.7403, 0.9978, 0.0772\n",
      "Epoch: 140/200,  Train Loss: 1.1603,  Val Loss: 0.1223,  R^2: 0.1951, -0.0040, 0.7289, 0.9980, 0.0788\n",
      "Epoch: 141/200,  Train Loss: 0.9020,  Val Loss: 0.1287,  R^2: 0.1982, -0.0724, 0.7353, 0.9973, 0.0734\n",
      "saving model...\n",
      "Epoch: 142/200,  Train Loss: 0.8750,  Val Loss: 0.1246,  R^2: 0.1937, -0.0170, 0.7348, 0.9976, 0.0823\n",
      "saving model...\n",
      "Epoch: 143/200,  Train Loss: 1.2003,  Val Loss: 0.1171,  R^2: 0.1880, -0.0008, 0.7291, 0.9985, 0.0759\n",
      "Epoch: 144/200,  Train Loss: 1.0278,  Val Loss: 0.1231,  R^2: 0.1929, -0.0030, 0.7296, 0.9979, 0.0771\n",
      "Epoch: 145/200,  Train Loss: 0.9281,  Val Loss: 0.1315,  R^2: 0.1960, -0.0166, 0.7425, 0.9968, 0.0635\n",
      "Epoch: 146/200,  Train Loss: 0.9666,  Val Loss: 0.1316,  R^2: 0.1925, -0.0059, 0.7451, 0.9967, 0.0544\n",
      "saving model...\n",
      "Epoch: 147/200,  Train Loss: 1.0670,  Val Loss: 0.1286,  R^2: 0.1991, -0.0234, 0.7421, 0.9971, 0.0789\n",
      "Epoch: 148/200,  Train Loss: 0.9919,  Val Loss: 0.1331,  R^2: 0.1934, 0.0009, 0.7373, 0.9969, 0.0750\n",
      "saving model...\n",
      "Epoch: 149/200,  Train Loss: 1.0841,  Val Loss: 0.1261,  R^2: 0.2077, -0.0091, 0.7450, 0.9972, 0.0316\n",
      "saving model...\n",
      "Epoch: 150/200,  Train Loss: 0.9609,  Val Loss: 0.1177,  R^2: 0.1950, 0.0021, 0.7363, 0.9982, 0.0724\n",
      "saving model...\n",
      "Epoch: 151/200,  Train Loss: 1.1606,  Val Loss: 0.1172,  R^2: 0.2029, -0.0788, 0.7321, 0.9983, 0.0669\n",
      "Epoch: 152/200,  Train Loss: 1.1470,  Val Loss: 0.1462,  R^2: 0.2025, -0.0083, 0.7511, 0.9954, 0.0887\n",
      "saving model...\n",
      "Epoch: 153/200,  Train Loss: 0.8395,  Val Loss: 0.1201,  R^2: 0.1935, -0.0048, 0.7445, 0.9977, 0.0655\n",
      "Epoch: 154/200,  Train Loss: 1.0889,  Val Loss: 0.1209,  R^2: 0.2058, -0.0138, 0.7255, 0.9983, 0.0743\n",
      "Epoch: 155/200,  Train Loss: 1.0683,  Val Loss: 0.1223,  R^2: 0.1977, -0.0012, 0.7340, 0.9979, 0.0768\n",
      "Epoch: 156/200,  Train Loss: 0.9650,  Val Loss: 0.1233,  R^2: 0.1886, -0.0033, 0.7305, 0.9979, 0.0774\n",
      "saving model...\n",
      "Epoch: 157/200,  Train Loss: 1.0698,  Val Loss: 0.1231,  R^2: 0.1749, -0.0006, 0.7411, 0.9975, 0.0744\n",
      "saving model...\n",
      "Epoch: 158/200,  Train Loss: 1.0843,  Val Loss: 0.1207,  R^2: 0.1632, -0.0193, 0.7433, 0.9977, 0.0686\n",
      "saving model...\n",
      "Epoch: 159/200,  Train Loss: 1.1396,  Val Loss: 0.1194,  R^2: 0.1896, -0.0036, 0.7395, 0.9979, 0.0117\n",
      "Epoch: 160/200,  Train Loss: 0.9236,  Val Loss: 0.1222,  R^2: 0.2033, -0.0005, 0.7409, 0.9977, 0.0886\n",
      "Epoch: 161/200,  Train Loss: 1.0276,  Val Loss: 0.1331,  R^2: 0.1960, -0.0060, 0.7570, 0.9964, 0.0902\n",
      "saving model...\n",
      "Epoch: 162/200,  Train Loss: 0.9830,  Val Loss: 0.1209,  R^2: 0.1970, -0.0153, 0.7456, 0.9976, 0.0555\n",
      "saving model...\n",
      "Epoch: 163/200,  Train Loss: 1.0395,  Val Loss: 0.1198,  R^2: 0.1917, -0.0012, 0.7410, 0.9978, 0.0793\n",
      "Epoch: 164/200,  Train Loss: 1.1572,  Val Loss: 0.1225,  R^2: 0.1606, -0.0092, 0.7406, 0.9976, 0.0794\n",
      "Epoch: 165/200,  Train Loss: 0.9538,  Val Loss: 0.1289,  R^2: 0.1953, -0.0017, 0.7490, 0.9969, 0.0535\n",
      "saving model...\n",
      "Epoch: 166/200,  Train Loss: 0.9250,  Val Loss: 0.1138,  R^2: 0.2009, -0.0026, 0.7487, 0.9981, 0.0718\n",
      "Epoch: 167/200,  Train Loss: 1.0822,  Val Loss: 0.1186,  R^2: 0.1912, 0.0014, 0.7495, 0.9977, 0.0774\n",
      "saving model...\n",
      "Epoch: 168/200,  Train Loss: 1.0432,  Val Loss: 0.1165,  R^2: 0.1976, -0.0424, 0.7436, 0.9981, 0.0812\n",
      "saving model...\n",
      "Epoch: 169/200,  Train Loss: 0.9532,  Val Loss: 0.1161,  R^2: 0.1715, -0.0000, 0.7452, 0.9981, 0.0784\n",
      "Epoch: 170/200,  Train Loss: 1.0138,  Val Loss: 0.1206,  R^2: 0.1989, -0.0067, 0.7386, 0.9979, 0.0834\n",
      "saving model...\n",
      "Epoch: 171/200,  Train Loss: 1.0756,  Val Loss: 0.1175,  R^2: 0.1964, -0.0047, 0.7352, 0.9982, 0.0833\n",
      "Epoch: 172/200,  Train Loss: 1.1730,  Val Loss: 0.1203,  R^2: 0.2003, -0.0158, 0.7419, 0.9978, 0.0785\n",
      "Epoch: 173/200,  Train Loss: 1.0919,  Val Loss: 0.1239,  R^2: 0.1934, -0.0132, 0.7361, 0.9976, 0.0787\n",
      "saving model...\n",
      "Epoch: 174/200,  Train Loss: 1.1006,  Val Loss: 0.1227,  R^2: 0.1730, -0.0050, 0.7464, 0.9974, 0.0519\n",
      "Epoch: 175/200,  Train Loss: 1.2563,  Val Loss: 0.1304,  R^2: 0.0916, -0.0031, 0.7547, 0.9965, 0.0237\n",
      "saving model...\n",
      "Epoch: 176/200,  Train Loss: 0.9699,  Val Loss: 0.1212,  R^2: 0.2005, -0.0039, 0.7490, 0.9975, 0.0747\n",
      "saving model...\n",
      "Epoch: 177/200,  Train Loss: 0.9872,  Val Loss: 0.1176,  R^2: 0.1889, -0.0134, 0.7536, 0.9977, 0.0673\n",
      "Epoch: 178/200,  Train Loss: 0.8430,  Val Loss: 0.1205,  R^2: 0.1997, 0.0027, 0.7363, 0.9979, 0.0379\n",
      "saving model...\n",
      "Epoch: 179/200,  Train Loss: 1.0269,  Val Loss: 0.1151,  R^2: 0.1967, -0.0006, 0.7460, 0.9981, 0.0829\n",
      "Epoch: 180/200,  Train Loss: 0.9467,  Val Loss: 0.1157,  R^2: 0.1631, -0.0401, 0.7452, 0.9981, 0.0802\n",
      "Epoch: 181/200,  Train Loss: 1.2118,  Val Loss: 0.1199,  R^2: 0.2063, -0.0062, 0.7469, 0.9977, 0.0681\n",
      "saving model...\n",
      "Epoch: 182/200,  Train Loss: 1.0029,  Val Loss: 0.1142,  R^2: 0.2063, 0.0033, 0.7473, 0.9981, 0.0659\n",
      "Epoch: 183/200,  Train Loss: 1.1734,  Val Loss: 0.1184,  R^2: 0.1988, -0.0449, 0.7483, 0.9977, 0.0725\n",
      "Epoch: 184/200,  Train Loss: 1.1139,  Val Loss: 0.1225,  R^2: 0.1913, -0.0458, 0.7441, 0.9976, 0.0761\n",
      "saving model...\n",
      "Epoch: 185/200,  Train Loss: 1.0286,  Val Loss: 0.1166,  R^2: 0.1868, -0.0503, 0.7404, 0.9981, 0.0702\n",
      "saving model...\n",
      "Epoch: 186/200,  Train Loss: 1.0178,  Val Loss: 0.1138,  R^2: 0.2036, -0.0140, 0.7511, 0.9981, 0.0695\n",
      "Epoch: 187/200,  Train Loss: 1.0815,  Val Loss: 0.1175,  R^2: 0.1954, -0.0061, 0.7432, 0.9980, 0.0756\n",
      "Epoch: 188/200,  Train Loss: 0.9102,  Val Loss: 0.1209,  R^2: 0.2086, -0.0595, 0.7380, 0.9978, 0.0773\n",
      "saving model...\n",
      "Epoch: 189/200,  Train Loss: 1.1645,  Val Loss: 0.1186,  R^2: 0.2202, -0.0064, 0.7462, 0.9978, 0.0838\n",
      "saving model...\n",
      "Epoch: 190/200,  Train Loss: 1.0952,  Val Loss: 0.1130,  R^2: 0.2076, -0.0017, 0.7493, 0.9982, 0.0842\n",
      "saving model...\n",
      "Epoch: 191/200,  Train Loss: 0.9254,  Val Loss: 0.1116,  R^2: 0.2076, -0.0078, 0.7523, 0.9982, 0.0648\n",
      "Epoch: 192/200,  Train Loss: 0.8656,  Val Loss: 0.1174,  R^2: 0.2047, -0.0376, 0.7529, 0.9977, 0.0719\n",
      "Epoch: 193/200,  Train Loss: 1.0929,  Val Loss: 0.1237,  R^2: 0.2154, -0.0011, 0.7408, 0.9975, 0.0893\n",
      "saving model...\n",
      "Epoch: 194/200,  Train Loss: 0.9138,  Val Loss: 0.1141,  R^2: 0.1956, 0.0013, 0.7545, 0.9979, 0.0536\n",
      "Epoch: 195/200,  Train Loss: 1.2234,  Val Loss: 0.1236,  R^2: 0.2057, -0.0001, 0.7444, 0.9974, 0.0878\n",
      "saving model...\n",
      "Epoch: 196/200,  Train Loss: 1.1365,  Val Loss: 0.1235,  R^2: 0.2074, -0.0483, 0.7504, 0.9972, 0.0660\n",
      "saving model...\n",
      "Epoch: 197/200,  Train Loss: 1.1996,  Val Loss: 0.1168,  R^2: 0.1961, -0.0112, 0.7469, 0.9979, 0.0754\n",
      "Epoch: 198/200,  Train Loss: 0.9758,  Val Loss: 0.1180,  R^2: 0.2072, -0.0001, 0.7453, 0.9979, 0.0707\n",
      "Epoch: 199/200,  Train Loss: 0.9472,  Val Loss: 0.1198,  R^2: 0.2017, -0.0023, 0.7434, 0.9978, 0.0737\n",
      "Epoch: 200/200,  Train Loss: 0.9836,  Val Loss: 0.1220,  R^2: 0.2085, 0.0028, 0.7376, 0.9977, 0.0823\n"
     ]
    }
   ],
   "source": [
    "criterion = nn.MSELoss()\n",
    "optimizer = torch.optim.Adam(model.parameters(), lr=0.0001)\n",
    "training(model, optimizer, criterion)"
   ]
  },
  {
   "cell_type": "markdown",
   "metadata": {},
   "source": [
    "## Plotting\n",
    "### load the best model"
   ]
  },
  {
   "cell_type": "code",
   "execution_count": 62,
   "metadata": {},
   "outputs": [],
   "source": [
    "bst_model = model.load_state_dict(torch.load('state_dict.pt'))"
   ]
  },
  {
   "cell_type": "markdown",
   "metadata": {},
   "source": [
    "### Using test dataset"
   ]
  },
  {
   "cell_type": "code",
   "execution_count": 63,
   "metadata": {},
   "outputs": [],
   "source": [
    "test_df = parse_data('test.npy')\n",
    "test_ds = SPDataset(test_df)\n",
    "test_dl = DataLoader(test_ds, batch_size=300)"
   ]
  },
  {
   "cell_type": "code",
   "execution_count": 64,
   "metadata": {},
   "outputs": [],
   "source": [
    " def test_model(dataloader, model):\n",
    "    y_pred = []\n",
    "    y_all = []\n",
    "    for x, y in dataloader:\n",
    "        y_all.append(y)\n",
    "        x = torch.FloatTensor(x.float()).transpose(1,2).to(device)\n",
    "        y = torch.FloatTensor(y.float()).to(device)\n",
    "        out = model(x)\n",
    "        y_pred.append(out.detach().cpu().numpy())\n",
    "\n",
    "    y_pred = np.vstack(y_pred)\n",
    "    y_all = np.vstack(y_all)\n",
    "    r1 = r2_score(y_all[:,0], y_pred[:,0])\n",
    "    r2 = r2_score(y_all[:,1], y_pred[:,1])\n",
    "    r3 = r2_score(y_all[:,2], y_pred[:,2])\n",
    "    r4 = r2_score(y_all[:,3], y_pred[:,3])\n",
    "    r5 = r2_score(y_all[:,4], y_pred[:,4])\n",
    "    return y_pred, y_all, [r1, r2, r3, r4, r5]"
   ]
  },
  {
   "cell_type": "code",
   "execution_count": 65,
   "metadata": {},
   "outputs": [],
   "source": [
    "y_pred, y_all, r_2s = test_model(test_dl, model)"
   ]
  },
  {
   "cell_type": "code",
   "execution_count": 66,
   "metadata": {},
   "outputs": [
    {
     "data": {
      "image/png": "[encoded data removed]",
      "text/plain": [
       "<Figure size 1800x360 with 5 Axes>"
      ]
     },
     "metadata": {
      "needs_background": "light"
     },
     "output_type": "display_data"
    }
   ],
   "source": [
    "fig, axs = plt.subplots(1, 5, figsize=(25,5), sharex=False, sharey=False)\n",
    "param_names = [r'$\\tau_e$', r'$\\tau_i$', r'$\\alpha$', 'speed', r'$\\tau_c$']\n",
    "\n",
    "for i in range(5):\n",
    "    axs[i].scatter(y_all[:, i], y_pred[:, i], color='lightblue')\n",
    "    axs[i].plot(y_all[:, i], y_all[:, i], 'g')\n",
    "    axs[i].title.set_text(param_names[i]+' , R^2='+str(round(r_2s[i], 3)))\n",
    "    axs[i].set_xlabel('y true')\n",
    "    axs[i].set_ylabel('y prediction')"
   ]
  }
 ],
 "metadata": {
  "kernelspec": {
   "display_name": "Python 3",
   "language": "python",
   "name": "python3"
  },
  "language_info": {
   "codemirror_mode": {
    "name": "ipython",
    "version": 3
   },
   "file_extension": ".py",
   "mimetype": "text/x-python",
   "name": "python",
   "nbconvert_exporter": "python",
   "pygments_lexer": "ipython3",
   "version": "3.7.6"
  }
 },
 "nbformat": 4,
 "nbformat_minor": 2
}
