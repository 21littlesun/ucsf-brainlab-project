{
 "cells": [
  {
   "cell_type": "markdown",
   "metadata": {},
   "source": [
    "## Data Cleaning"
   ]
  },
  {
   "cell_type": "code",
   "execution_count": 1,
   "metadata": {},
   "outputs": [],
   "source": [
    "# Load h5 spectra and model parameters\n",
    "import numpy as np\n",
    "import pandas as pd\n",
    "import os\n",
    "import h5py\n",
    "import tables"
   ]
  },
  {
   "cell_type": "code",
   "execution_count": 2,
   "metadata": {},
   "outputs": [],
   "source": [
    "from pathlib import Path\n",
    "PATH = \"../data/train-data/\""
   ]
  },
  {
   "cell_type": "code",
   "execution_count": 3,
   "metadata": {},
   "outputs": [],
   "source": [
    "def get_filename(path, is_dir=False):\n",
    "    if is_dir == False:\n",
    "        return [path]\n",
    "    return os.listdir(path)"
   ]
  },
  {
   "cell_type": "code",
   "execution_count": 5,
   "metadata": {},
   "outputs": [],
   "source": [
    "files = get_filename(PATH, is_dir=True)"
   ]
  },
  {
   "cell_type": "code",
   "execution_count": null,
   "metadata": {},
   "outputs": [],
   "source": [
    "def parse_data(PATH, filename):\n",
    "    \"\"\" Given a filename return X and Y numpy arrays\n",
    "\n",
    "    X is of 40*86\n",
    "    Y is an array of 5 target parameters.\n",
    "    \"\"\"\n",
    "    file = PATH/filename # remove suffix\n",
    "    data = pd.read_hdf(file)\n",
    "    data.drop_duplicates(subset='tau_e', keep='first', inplace=True)\n",
    "    data.save_as()"
   ]
  },
  {
   "cell_type": "code",
   "execution_count": 98,
   "metadata": {},
   "outputs": [],
   "source": [
    "def get_data(filepath, is_dir=False):\n",
    "    #only get the last 10 files in directory\n",
    "    files = os.listdir(filepath)[-11:-1]\n",
    "\n",
    "    x, y, filename = [],[],[]\n",
    "    for file in files:\n",
    "        filename.append(file[:-3]) # remove suffix\n",
    "        file = filepath + file\n",
    "        data = pd.read_hdf(file)\n",
    "        data.drop_duplicates(subset='tau_e', keep='first', inplace=True)\n",
    "        data.reset_index(inplace=True, drop=True)\n",
    "        for row in range(len(data)):\n",
    "            parameters = data.loc[row][:5].values\n",
    "            spectrum = data.loc[row][5]\n",
    "            spectrum = np.abs(spectrum)             \n",
    "            spectrum = spectrum.transpose()\n",
    "            x.append(spectrum)\n",
    "            y.append(parameters)\n",
    "    x = np.array(x)\n",
    "    y = np.array(y)\n",
    "    filename = np.array(filename)\n",
    "    return(x, y, filename)"
   ]
  },
  {
   "cell_type": "code",
   "execution_count": 99,
   "metadata": {},
   "outputs": [],
   "source": [
    "x, y, filenames = get_data(PATH)"
   ]
  },
  {
   "cell_type": "code",
   "execution_count": 70,
   "metadata": {},
   "outputs": [
    {
     "data": {
      "text/plain": [
       "(11140, 40, 86)"
      ]
     },
     "execution_count": 70,
     "metadata": {},
     "output_type": "execute_result"
    }
   ],
   "source": [
    "x.shape"
   ]
  },
  {
   "cell_type": "code",
   "execution_count": 100,
   "metadata": {},
   "outputs": [
    {
     "data": {
      "text/plain": [
       "(11140, 5)"
      ]
     },
     "execution_count": 100,
     "metadata": {},
     "output_type": "execute_result"
    }
   ],
   "source": [
    "y.shape"
   ]
  },
  {
   "cell_type": "code",
   "execution_count": 101,
   "metadata": {},
   "outputs": [],
   "source": [
    "# split train, test, valid set\n",
    "x_train, x_test, y_train, y_test = train_test_split(x, y, test_size=0.2, random_state=27)\n",
    "x_train, x_val, y_train, y_val = train_test_split(x_train, y_train, test_size=0.25, random_state=27)"
   ]
  },
  {
   "cell_type": "code",
   "execution_count": 102,
   "metadata": {},
   "outputs": [],
   "source": [
    "# save the data to disk\n",
    "# x has 3 dimensions, need to be saved slice by slice\n",
    "def save_x(filename, data):\n",
    "    with open('../data/'+filename+'txt', 'w') as file:\n",
    "        for record in data:\n",
    "            np.savetxt(file, record)"
   ]
  },
  {
   "cell_type": "code",
   "execution_count": 104,
   "metadata": {},
   "outputs": [],
   "source": [
    "save_x('x_train', x_train)\n",
    "save_x('x_test', x_test)\n",
    "save_x('x_val', x_val)"
   ]
  },
  {
   "cell_type": "code",
   "execution_count": 122,
   "metadata": {},
   "outputs": [],
   "source": [
    "# load data from the disk\n",
    "x_train = np.loadtxt('../data/x_train').reshape(6684, 40, 86)\n",
    "x_test = np.loadtxt('../data/x_test').reshape(2228, 40, 86)\n",
    "x_val = np.loadtxt('../data/x_val').reshape(2228, 40, 86)\n",
    "y_train = np.loadtxt('../data/y_train.txt')\n",
    "y_test = np.loadtxt('../data/y_test.txt')\n",
    "y_valid = np.loadtxt('../data/y_val.txt')"
   ]
  },
  {
   "cell_type": "code",
   "execution_count": 123,
   "metadata": {},
   "outputs": [
    {
     "data": {
      "text/plain": [
       "(6684, 40, 86)"
      ]
     },
     "execution_count": 123,
     "metadata": {},
     "output_type": "execute_result"
    }
   ],
   "source": [
    "x_train.shape"
   ]
  },
  {
   "cell_type": "code",
   "execution_count": null,
   "metadata": {},
   "outputs": [],
   "source": []
  }
 ],
 "metadata": {
  "kernelspec": {
   "display_name": "Python 3",
   "language": "python",
   "name": "python3"
  },
  "language_info": {
   "codemirror_mode": {
    "name": "ipython",
    "version": 3
   },
   "file_extension": ".py",
   "mimetype": "text/x-python",
   "name": "python",
   "nbconvert_exporter": "python",
   "pygments_lexer": "ipython3",
   "version": "3.7.6"
  }
 },
 "nbformat": 4,
 "nbformat_minor": 2
}
